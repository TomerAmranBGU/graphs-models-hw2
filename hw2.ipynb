{
 "cells": [
  {
   "cell_type": "code",
   "execution_count": 1,
   "id": "11e05293",
   "metadata": {},
   "outputs": [],
   "source": [
    "import numpy as np\n",
    "import itertools\n",
    "import matplotlib.pyplot as plt\n"
   ]
  },
  {
   "cell_type": "code",
   "execution_count": 2,
   "id": "ef15ed48",
   "metadata": {},
   "outputs": [],
   "source": [
    "# Exercise 1\n",
    "def G(row_s, Temp):\n",
    "    return np.exp(1/Temp * row_s[:-1]@row_s[1:].T)\n"
   ]
  },
  {
   "cell_type": "code",
   "execution_count": 3,
   "id": "2889221e",
   "metadata": {},
   "outputs": [],
   "source": [
    "\n",
    "# Exercise 2\n",
    "def F(row_s, row_t, Temp):\n",
    "    return np.exp(1/Temp * row_s@row_t.T)\n"
   ]
  },
  {
   "cell_type": "code",
   "execution_count": 4,
   "id": "5fb621fa",
   "metadata": {},
   "outputs": [
    {
     "output_type": "stream",
     "name": "stdout",
     "text": [
      "Temp:1, size: 2x2, Ztemp:  121.23293134406595\nTemp:1.5, size: 2x2, Ztemp:  40.922799092745386\nTemp:2, size: 2x2, Ztemp:  27.048782764334526\n"
     ]
    }
   ],
   "source": [
    "# exercise 3\n",
    "# to achive the Ztemp definition we can combine G and F with exponent multipication rules\n",
    "def Ztemp_2(Temp):\n",
    "    # options = np.array(np.meshgrid([-1,1],[-1,1])).T.reshape(-1,2)\n",
    "    options = itertools.product([-1,1], repeat = 4)\n",
    "    res = 0\n",
    "    for option in options:\n",
    "        grid = np.array(option).reshape(2,2)\n",
    "        row_s = grid[0]\n",
    "        row_t = grid[1]\n",
    "        res += G(row_s,Temp)*G(row_t,Temp)*F(row_s,row_t,Temp);\n",
    "    return res\n",
    "print(\"Temp:1, size: 2x2, Ztemp: \",Ztemp_2(1))\n",
    "print(\"Temp:1.5, size: 2x2, Ztemp: \",Ztemp_2(1.5))\n",
    "print(\"Temp:2, size: 2x2, Ztemp: \",Ztemp_2(2))\n"
   ]
  },
  {
   "cell_type": "code",
   "execution_count": 5,
   "id": "9357ad8f",
   "metadata": {},
   "outputs": [
    {
     "output_type": "stream",
     "name": "stdout",
     "text": [
      "Temp:1, size: 3x3, Ztemp:  365645.7491357704\n",
      "Temp:1.5, size: 3x3, Ztemp:  10565.421983514265\n",
      "Temp:2, size: 3x3, Ztemp:  2674.518123060087\n"
     ]
    }
   ],
   "source": [
    "# Exercise 4\n",
    "def Ztemp_3(Temp):\n",
    "    # options = np.array(np.meshgrid([-1,1],[-1,1])).T.reshape(-1,2)\n",
    "    options = itertools.product([-1,1], repeat = 9)\n",
    "    res = 0\n",
    "    for option in options:\n",
    "        grid = np.array(option).reshape(3,3)\n",
    "        \n",
    "        res += G(grid[0],Temp)*G(grid[1],Temp)*G(grid[2],Temp) \\\n",
    "                *F(grid[0],grid[1],Temp)*F(grid[1],grid[2],Temp);\n",
    "    return res\n",
    "print(\"Temp:1, size: 3x3, Ztemp: \",Ztemp_3(1))\n",
    "print(\"Temp:1.5, size: 3x3, Ztemp: \",Ztemp_3(1.5))\n",
    "print(\"Temp:2, size: 3x3, Ztemp: \",Ztemp_3(2))\n"
   ]
  },
  {
   "cell_type": "code",
   "execution_count": 6,
   "id": "bef6dc3d",
   "metadata": {},
   "outputs": [
    {
     "output_type": "stream",
     "name": "stdout",
     "text": [
      "Temp:1, size: 2x2, Ztemp:  121.23293134406595\n",
      "Temp:1.5, size: 2x2, Ztemp:  40.922799092745386\n",
      "Temp:2, size: 2x2, Ztemp:  27.048782764334526\n",
      " \n",
      "Temp:1, size: 3x3, Ztemp:  365645.7491357704\n",
      "Temp:1.5, size: 3x3, Ztemp:  10565.421983514265\n",
      "Temp:2, size: 3x3, Ztemp:  2674.518123060087\n"
     ]
    }
   ],
   "source": [
    "# Exrecise 5+6\n",
    "def y2row(y,width=8):\n",
    "    \"\"\"\n",
    "    y: an integer in (0,...,(2**width)-1)\n",
    "    \"\"\"\n",
    "    if not 0<=y<=(2**width)-1:\n",
    "        raise ValueError(y)\n",
    "    my_str=np.binary_repr(y,width=width)\n",
    "    # my_list = map(int,my_str) # Python 2\n",
    "    my_list = list(map(int,my_str)) # Python 3\n",
    "    my_array = np.asarray(my_list)\n",
    "    my_array[my_array==0]=-1\n",
    "    row=my_array\n",
    "    return row\n",
    "\n",
    "def Ztemp_ys(Temp, size):\n",
    "    res =0\n",
    "    for yS in itertools.product([y2row(num,size) for num in range(2**size)], repeat=size):\n",
    "        inner_res = 1 \n",
    "        for y_i in yS:\n",
    "            inner_res *= G(y_i,Temp)\n",
    "        for i in range(size-1):\n",
    "            inner_res *= F(yS[i],yS[i+1],Temp)\n",
    "        res += inner_res\n",
    "    return res\n",
    "print(\"Temp:1, size: 2x2, Ztemp: \",Ztemp_ys(1,2))\n",
    "print(\"Temp:1.5, size: 2x2, Ztemp: \",Ztemp_ys(1.5,2))\n",
    "print(\"Temp:2, size: 2x2, Ztemp: \",Ztemp_ys(2,2))\n",
    "print(\" \")\n",
    "print(\"Temp:1, size: 3x3, Ztemp: \",Ztemp_ys(1,3))\n",
    "print(\"Temp:1.5, size: 3x3, Ztemp: \",Ztemp_ys(1.5,3))\n",
    "print(\"Temp:2, size: 3x3, Ztemp: \",Ztemp_ys(2,3))"
   ]
  },
  {
   "cell_type": "code",
   "execution_count": 7,
   "metadata": {},
   "outputs": [],
   "source": [
    "def get_Ts(size, Temp):\n",
    "    Ts = []\n",
    "    y_range = range(2**size)\n",
    "    T1 = [sum([G(y2row(y1,size),Temp)*F(y2row(y1,size),y2row(y2,size),Temp) \\\n",
    "                        for y1 in y_range]) \\\n",
    "                            for y2 in y_range]\n",
    "    Ts.append(T1)\n",
    "    Tprev = T1\n",
    "    for _ in range(1,size-1):\n",
    "        Tnext = [sum([Tprev[y1]*G(y2row(y1,size),Temp)*F(y2row(y1,size),y2row(y2,size),Temp) \\\n",
    "                        for y1 in y_range]) \\\n",
    "                            for y2 in y_range]\n",
    "        Ts.append(Tnext)\n",
    "        Tprev = Tnext\n",
    "    Tlast = sum([Tprev[y]*G(y2row(y,size),Temp) for y in y_range])\n",
    "    Ts.append(Tlast)\n",
    "    return Ts"
   ]
  },
  {
   "cell_type": "code",
   "execution_count": 8,
   "metadata": {},
   "outputs": [],
   "source": [
    "\n",
    "def get_ps(size, Temp, Ts):\n",
    "    y_range = range(2**size)\n",
    "    Ztemp = Ts[-1]\n",
    "    ps = []\n",
    "    p_first = lambda y: Ts[-2][y]*G(y2row(y,size),Temp)/Ztemp\n",
    "    ps.append(p_first)\n",
    "    p_prev = p_first\n",
    "    for i in range(size-2, 0, -1):\n",
    "        p_next = lambda y1,y2: Ts[i-1][y1]* G(y2row(y1,size),Temp)*F(y2row(y1,size),y2row(y2,size),Temp) \\\n",
    "              / Ts[i][y2]\n",
    "        ps.append(p_next)\n",
    "        p_prev = p_next\n",
    "    p_last = lambda y1,y2: G(y2row(y1,size),Temp)*F(y2row(y1,size),y2row(y2,size),Temp) / Ts[0][y2]\n",
    "    ps.append(p_last)\n",
    "    return ps"
   ]
  },
  {
   "cell_type": "code",
   "execution_count": 9,
   "metadata": {},
   "outputs": [],
   "source": [
    "def get_ps_table(size, Temp, ps):\n",
    "    ps_table = []\n",
    "    y_range = range(2**size)\n",
    "    ps_table.append([ps[0](y) for y in y_range])\n",
    "    for i in range(1,size):\n",
    "        ps_table.append([[ps[i](y1,y2) for y1 in y_range] for y2 in y_range])\n",
    "    return ps_table\n",
    "\n"
   ]
  },
  {
   "cell_type": "code",
   "execution_count": 10,
   "metadata": {},
   "outputs": [],
   "source": [
    "def single_sample(size, Temp, Ts, ps_table):\n",
    "    # Ts = get_Ts(size, Temp)\n",
    "    # ps = get_ps(size, Temp, Ts)\n",
    "    sample = []\n",
    "    y_range = range(2**size)\n",
    "    y_first = np.random.choice(y_range, p=ps_table[0])\n",
    "    sample.append(y_first)\n",
    "    y_prev = y_first\n",
    "    for i in range(1,size):\n",
    "        y_next =  np.random.choice(y_range, p=ps_table[i][y_prev])\n",
    "        sample.append(y_next)\n",
    "        y_prev = y_next\n",
    "    #no need for last\n",
    "    parsed_sample = np.array([np.array(y2row(y,size)) for y in sample])\n",
    "    return parsed_sample\n"
   ]
  },
  {
   "cell_type": "code",
   "execution_count": 11,
   "metadata": {},
   "outputs": [],
   "source": [
    "\n",
    "def sample_n(n, size, Temp):\n",
    "    Ts = get_Ts(size, Temp)\n",
    "    ps = get_ps(size, Temp, Ts)\n",
    "    ps_table = get_ps_table(size,Temp, ps)\n",
    "    samples = np.empty((n,size,size))\n",
    "    for i in range(n):\n",
    "        samples[i] = single_sample(size,Temp, Ts, ps_table)\n",
    "    return samples\n"
   ]
  },
  {
   "cell_type": "code",
   "execution_count": 12,
   "id": "d80fa8a7",
   "metadata": {},
   "outputs": [
    {
     "output_type": "error",
     "ename": "KeyboardInterrupt",
     "evalue": "",
     "traceback": [
      "\u001b[0;31m---------------------------------------------------------------------------\u001b[0m",
      "\u001b[0;31mKeyboardInterrupt\u001b[0m                         Traceback (most recent call last)",
      "\u001b[0;32m<ipython-input-12-af7666ddfa62>\u001b[0m in \u001b[0;36m<module>\u001b[0;34m\u001b[0m\n\u001b[1;32m      3\u001b[0m \u001b[0mfig\u001b[0m\u001b[0;34m,\u001b[0m \u001b[0maxs\u001b[0m \u001b[0;34m=\u001b[0m \u001b[0mplt\u001b[0m\u001b[0;34m.\u001b[0m\u001b[0msubplots\u001b[0m\u001b[0;34m(\u001b[0m\u001b[0mnrows\u001b[0m\u001b[0;34m=\u001b[0m\u001b[0;36m3\u001b[0m\u001b[0;34m,\u001b[0m \u001b[0mncols\u001b[0m\u001b[0;34m=\u001b[0m \u001b[0;36m10\u001b[0m\u001b[0;34m)\u001b[0m\u001b[0;34m\u001b[0m\u001b[0;34m\u001b[0m\u001b[0m\n\u001b[1;32m      4\u001b[0m \u001b[0;32mfor\u001b[0m \u001b[0mi\u001b[0m\u001b[0;34m,\u001b[0m \u001b[0mTemp\u001b[0m \u001b[0;32min\u001b[0m \u001b[0menumerate\u001b[0m\u001b[0;34m(\u001b[0m\u001b[0;34m[\u001b[0m\u001b[0;36m1\u001b[0m\u001b[0;34m,\u001b[0m\u001b[0;36m1.5\u001b[0m\u001b[0;34m,\u001b[0m\u001b[0;36m2\u001b[0m\u001b[0;34m]\u001b[0m\u001b[0;34m)\u001b[0m\u001b[0;34m:\u001b[0m\u001b[0;34m\u001b[0m\u001b[0;34m\u001b[0m\u001b[0m\n\u001b[0;32m----> 5\u001b[0;31m     \u001b[0mexact_samples\u001b[0m \u001b[0;34m=\u001b[0m \u001b[0msample_n\u001b[0m\u001b[0;34m(\u001b[0m\u001b[0;36m10\u001b[0m\u001b[0;34m,\u001b[0m \u001b[0;36m8\u001b[0m\u001b[0;34m,\u001b[0m \u001b[0mTemp\u001b[0m\u001b[0;34m)\u001b[0m\u001b[0;34m\u001b[0m\u001b[0;34m\u001b[0m\u001b[0m\n\u001b[0m\u001b[1;32m      6\u001b[0m     \u001b[0;32mfor\u001b[0m \u001b[0mj\u001b[0m\u001b[0;34m,\u001b[0m \u001b[0msample\u001b[0m \u001b[0;32min\u001b[0m \u001b[0menumerate\u001b[0m\u001b[0;34m(\u001b[0m\u001b[0mexact_samples\u001b[0m\u001b[0;34m)\u001b[0m\u001b[0;34m:\u001b[0m\u001b[0;34m\u001b[0m\u001b[0;34m\u001b[0m\u001b[0m\n\u001b[1;32m      7\u001b[0m         \u001b[0maxs\u001b[0m\u001b[0;34m[\u001b[0m\u001b[0mi\u001b[0m\u001b[0;34m,\u001b[0m\u001b[0mj\u001b[0m\u001b[0;34m]\u001b[0m\u001b[0;34m.\u001b[0m\u001b[0mimshow\u001b[0m\u001b[0;34m(\u001b[0m\u001b[0msample\u001b[0m\u001b[0;34m,\u001b[0m \u001b[0minterpolation\u001b[0m\u001b[0;34m=\u001b[0m\u001b[0;34m'None'\u001b[0m\u001b[0;34m)\u001b[0m\u001b[0;34m\u001b[0m\u001b[0;34m\u001b[0m\u001b[0m\n",
      "\u001b[0;32m<ipython-input-11-8a7f33a7cde5>\u001b[0m in \u001b[0;36msample_n\u001b[0;34m(n, size, Temp)\u001b[0m\n\u001b[1;32m      2\u001b[0m     \u001b[0mTs\u001b[0m \u001b[0;34m=\u001b[0m \u001b[0mget_Ts\u001b[0m\u001b[0;34m(\u001b[0m\u001b[0msize\u001b[0m\u001b[0;34m,\u001b[0m \u001b[0mTemp\u001b[0m\u001b[0;34m)\u001b[0m\u001b[0;34m\u001b[0m\u001b[0;34m\u001b[0m\u001b[0m\n\u001b[1;32m      3\u001b[0m     \u001b[0mps\u001b[0m \u001b[0;34m=\u001b[0m \u001b[0mget_ps\u001b[0m\u001b[0;34m(\u001b[0m\u001b[0msize\u001b[0m\u001b[0;34m,\u001b[0m \u001b[0mTemp\u001b[0m\u001b[0;34m,\u001b[0m \u001b[0mTs\u001b[0m\u001b[0;34m)\u001b[0m\u001b[0;34m\u001b[0m\u001b[0;34m\u001b[0m\u001b[0m\n\u001b[0;32m----> 4\u001b[0;31m     \u001b[0mps_table\u001b[0m \u001b[0;34m=\u001b[0m \u001b[0mget_ps_table\u001b[0m\u001b[0;34m(\u001b[0m\u001b[0msize\u001b[0m\u001b[0;34m,\u001b[0m\u001b[0mTemp\u001b[0m\u001b[0;34m,\u001b[0m \u001b[0mps\u001b[0m\u001b[0;34m)\u001b[0m\u001b[0;34m\u001b[0m\u001b[0;34m\u001b[0m\u001b[0m\n\u001b[0m\u001b[1;32m      5\u001b[0m     \u001b[0msamples\u001b[0m \u001b[0;34m=\u001b[0m \u001b[0mnp\u001b[0m\u001b[0;34m.\u001b[0m\u001b[0mempty\u001b[0m\u001b[0;34m(\u001b[0m\u001b[0;34m(\u001b[0m\u001b[0mn\u001b[0m\u001b[0;34m,\u001b[0m\u001b[0msize\u001b[0m\u001b[0;34m,\u001b[0m\u001b[0msize\u001b[0m\u001b[0;34m)\u001b[0m\u001b[0;34m)\u001b[0m\u001b[0;34m\u001b[0m\u001b[0;34m\u001b[0m\u001b[0m\n\u001b[1;32m      6\u001b[0m     \u001b[0;32mfor\u001b[0m \u001b[0mi\u001b[0m \u001b[0;32min\u001b[0m \u001b[0mrange\u001b[0m\u001b[0;34m(\u001b[0m\u001b[0mn\u001b[0m\u001b[0;34m)\u001b[0m\u001b[0;34m:\u001b[0m\u001b[0;34m\u001b[0m\u001b[0;34m\u001b[0m\u001b[0m\n",
      "\u001b[0;32m<ipython-input-9-98d6fe629476>\u001b[0m in \u001b[0;36mget_ps_table\u001b[0;34m(size, Temp, ps)\u001b[0m\n\u001b[1;32m      4\u001b[0m     \u001b[0mps_table\u001b[0m\u001b[0;34m.\u001b[0m\u001b[0mappend\u001b[0m\u001b[0;34m(\u001b[0m\u001b[0;34m[\u001b[0m\u001b[0mps\u001b[0m\u001b[0;34m[\u001b[0m\u001b[0;36m0\u001b[0m\u001b[0;34m]\u001b[0m\u001b[0;34m(\u001b[0m\u001b[0my\u001b[0m\u001b[0;34m)\u001b[0m \u001b[0;32mfor\u001b[0m \u001b[0my\u001b[0m \u001b[0;32min\u001b[0m \u001b[0my_range\u001b[0m\u001b[0;34m]\u001b[0m\u001b[0;34m)\u001b[0m\u001b[0;34m\u001b[0m\u001b[0;34m\u001b[0m\u001b[0m\n\u001b[1;32m      5\u001b[0m     \u001b[0;32mfor\u001b[0m \u001b[0mi\u001b[0m \u001b[0;32min\u001b[0m \u001b[0mrange\u001b[0m\u001b[0;34m(\u001b[0m\u001b[0;36m1\u001b[0m\u001b[0;34m,\u001b[0m\u001b[0msize\u001b[0m\u001b[0;34m)\u001b[0m\u001b[0;34m:\u001b[0m\u001b[0;34m\u001b[0m\u001b[0;34m\u001b[0m\u001b[0m\n\u001b[0;32m----> 6\u001b[0;31m         \u001b[0mps_table\u001b[0m\u001b[0;34m.\u001b[0m\u001b[0mappend\u001b[0m\u001b[0;34m(\u001b[0m\u001b[0;34m[\u001b[0m\u001b[0;34m[\u001b[0m\u001b[0mps\u001b[0m\u001b[0;34m[\u001b[0m\u001b[0mi\u001b[0m\u001b[0;34m]\u001b[0m\u001b[0;34m(\u001b[0m\u001b[0my1\u001b[0m\u001b[0;34m,\u001b[0m\u001b[0my2\u001b[0m\u001b[0;34m)\u001b[0m \u001b[0;32mfor\u001b[0m \u001b[0my1\u001b[0m \u001b[0;32min\u001b[0m \u001b[0my_range\u001b[0m\u001b[0;34m]\u001b[0m \u001b[0;32mfor\u001b[0m \u001b[0my2\u001b[0m \u001b[0;32min\u001b[0m \u001b[0my_range\u001b[0m\u001b[0;34m]\u001b[0m\u001b[0;34m)\u001b[0m\u001b[0;34m\u001b[0m\u001b[0;34m\u001b[0m\u001b[0m\n\u001b[0m\u001b[1;32m      7\u001b[0m     \u001b[0;32mreturn\u001b[0m \u001b[0mps_table\u001b[0m\u001b[0;34m\u001b[0m\u001b[0;34m\u001b[0m\u001b[0m\n\u001b[1;32m      8\u001b[0m \u001b[0;34m\u001b[0m\u001b[0m\n",
      "\u001b[0;32m<ipython-input-9-98d6fe629476>\u001b[0m in \u001b[0;36m<listcomp>\u001b[0;34m(.0)\u001b[0m\n\u001b[1;32m      4\u001b[0m     \u001b[0mps_table\u001b[0m\u001b[0;34m.\u001b[0m\u001b[0mappend\u001b[0m\u001b[0;34m(\u001b[0m\u001b[0;34m[\u001b[0m\u001b[0mps\u001b[0m\u001b[0;34m[\u001b[0m\u001b[0;36m0\u001b[0m\u001b[0;34m]\u001b[0m\u001b[0;34m(\u001b[0m\u001b[0my\u001b[0m\u001b[0;34m)\u001b[0m \u001b[0;32mfor\u001b[0m \u001b[0my\u001b[0m \u001b[0;32min\u001b[0m \u001b[0my_range\u001b[0m\u001b[0;34m]\u001b[0m\u001b[0;34m)\u001b[0m\u001b[0;34m\u001b[0m\u001b[0;34m\u001b[0m\u001b[0m\n\u001b[1;32m      5\u001b[0m     \u001b[0;32mfor\u001b[0m \u001b[0mi\u001b[0m \u001b[0;32min\u001b[0m \u001b[0mrange\u001b[0m\u001b[0;34m(\u001b[0m\u001b[0;36m1\u001b[0m\u001b[0;34m,\u001b[0m\u001b[0msize\u001b[0m\u001b[0;34m)\u001b[0m\u001b[0;34m:\u001b[0m\u001b[0;34m\u001b[0m\u001b[0;34m\u001b[0m\u001b[0m\n\u001b[0;32m----> 6\u001b[0;31m         \u001b[0mps_table\u001b[0m\u001b[0;34m.\u001b[0m\u001b[0mappend\u001b[0m\u001b[0;34m(\u001b[0m\u001b[0;34m[\u001b[0m\u001b[0;34m[\u001b[0m\u001b[0mps\u001b[0m\u001b[0;34m[\u001b[0m\u001b[0mi\u001b[0m\u001b[0;34m]\u001b[0m\u001b[0;34m(\u001b[0m\u001b[0my1\u001b[0m\u001b[0;34m,\u001b[0m\u001b[0my2\u001b[0m\u001b[0;34m)\u001b[0m \u001b[0;32mfor\u001b[0m \u001b[0my1\u001b[0m \u001b[0;32min\u001b[0m \u001b[0my_range\u001b[0m\u001b[0;34m]\u001b[0m \u001b[0;32mfor\u001b[0m \u001b[0my2\u001b[0m \u001b[0;32min\u001b[0m \u001b[0my_range\u001b[0m\u001b[0;34m]\u001b[0m\u001b[0;34m)\u001b[0m\u001b[0;34m\u001b[0m\u001b[0;34m\u001b[0m\u001b[0m\n\u001b[0m\u001b[1;32m      7\u001b[0m     \u001b[0;32mreturn\u001b[0m \u001b[0mps_table\u001b[0m\u001b[0;34m\u001b[0m\u001b[0;34m\u001b[0m\u001b[0m\n\u001b[1;32m      8\u001b[0m \u001b[0;34m\u001b[0m\u001b[0m\n",
      "\u001b[0;32m<ipython-input-9-98d6fe629476>\u001b[0m in \u001b[0;36m<listcomp>\u001b[0;34m(.0)\u001b[0m\n\u001b[1;32m      4\u001b[0m     \u001b[0mps_table\u001b[0m\u001b[0;34m.\u001b[0m\u001b[0mappend\u001b[0m\u001b[0;34m(\u001b[0m\u001b[0;34m[\u001b[0m\u001b[0mps\u001b[0m\u001b[0;34m[\u001b[0m\u001b[0;36m0\u001b[0m\u001b[0;34m]\u001b[0m\u001b[0;34m(\u001b[0m\u001b[0my\u001b[0m\u001b[0;34m)\u001b[0m \u001b[0;32mfor\u001b[0m \u001b[0my\u001b[0m \u001b[0;32min\u001b[0m \u001b[0my_range\u001b[0m\u001b[0;34m]\u001b[0m\u001b[0;34m)\u001b[0m\u001b[0;34m\u001b[0m\u001b[0;34m\u001b[0m\u001b[0m\n\u001b[1;32m      5\u001b[0m     \u001b[0;32mfor\u001b[0m \u001b[0mi\u001b[0m \u001b[0;32min\u001b[0m \u001b[0mrange\u001b[0m\u001b[0;34m(\u001b[0m\u001b[0;36m1\u001b[0m\u001b[0;34m,\u001b[0m\u001b[0msize\u001b[0m\u001b[0;34m)\u001b[0m\u001b[0;34m:\u001b[0m\u001b[0;34m\u001b[0m\u001b[0;34m\u001b[0m\u001b[0m\n\u001b[0;32m----> 6\u001b[0;31m         \u001b[0mps_table\u001b[0m\u001b[0;34m.\u001b[0m\u001b[0mappend\u001b[0m\u001b[0;34m(\u001b[0m\u001b[0;34m[\u001b[0m\u001b[0;34m[\u001b[0m\u001b[0mps\u001b[0m\u001b[0;34m[\u001b[0m\u001b[0mi\u001b[0m\u001b[0;34m]\u001b[0m\u001b[0;34m(\u001b[0m\u001b[0my1\u001b[0m\u001b[0;34m,\u001b[0m\u001b[0my2\u001b[0m\u001b[0;34m)\u001b[0m \u001b[0;32mfor\u001b[0m \u001b[0my1\u001b[0m \u001b[0;32min\u001b[0m \u001b[0my_range\u001b[0m\u001b[0;34m]\u001b[0m \u001b[0;32mfor\u001b[0m \u001b[0my2\u001b[0m \u001b[0;32min\u001b[0m \u001b[0my_range\u001b[0m\u001b[0;34m]\u001b[0m\u001b[0;34m)\u001b[0m\u001b[0;34m\u001b[0m\u001b[0;34m\u001b[0m\u001b[0m\n\u001b[0m\u001b[1;32m      7\u001b[0m     \u001b[0;32mreturn\u001b[0m \u001b[0mps_table\u001b[0m\u001b[0;34m\u001b[0m\u001b[0;34m\u001b[0m\u001b[0m\n\u001b[1;32m      8\u001b[0m \u001b[0;34m\u001b[0m\u001b[0m\n",
      "\u001b[0;32m<ipython-input-8-613fb54f44ba>\u001b[0m in \u001b[0;36m<lambda>\u001b[0;34m(y1, y2)\u001b[0m\n\u001b[1;32m      7\u001b[0m     \u001b[0mp_prev\u001b[0m \u001b[0;34m=\u001b[0m \u001b[0mp_first\u001b[0m\u001b[0;34m\u001b[0m\u001b[0;34m\u001b[0m\u001b[0m\n\u001b[1;32m      8\u001b[0m     \u001b[0;32mfor\u001b[0m \u001b[0mi\u001b[0m \u001b[0;32min\u001b[0m \u001b[0mrange\u001b[0m\u001b[0;34m(\u001b[0m\u001b[0msize\u001b[0m\u001b[0;34m-\u001b[0m\u001b[0;36m2\u001b[0m\u001b[0;34m,\u001b[0m \u001b[0;36m0\u001b[0m\u001b[0;34m,\u001b[0m \u001b[0;34m-\u001b[0m\u001b[0;36m1\u001b[0m\u001b[0;34m)\u001b[0m\u001b[0;34m:\u001b[0m\u001b[0;34m\u001b[0m\u001b[0;34m\u001b[0m\u001b[0m\n\u001b[0;32m----> 9\u001b[0;31m         \u001b[0mp_next\u001b[0m \u001b[0;34m=\u001b[0m \u001b[0;32mlambda\u001b[0m \u001b[0my1\u001b[0m\u001b[0;34m,\u001b[0m\u001b[0my2\u001b[0m\u001b[0;34m:\u001b[0m \u001b[0mTs\u001b[0m\u001b[0;34m[\u001b[0m\u001b[0mi\u001b[0m\u001b[0;34m-\u001b[0m\u001b[0;36m1\u001b[0m\u001b[0;34m]\u001b[0m\u001b[0;34m[\u001b[0m\u001b[0my1\u001b[0m\u001b[0;34m]\u001b[0m\u001b[0;34m*\u001b[0m \u001b[0mG\u001b[0m\u001b[0;34m(\u001b[0m\u001b[0my2row\u001b[0m\u001b[0;34m(\u001b[0m\u001b[0my1\u001b[0m\u001b[0;34m,\u001b[0m\u001b[0msize\u001b[0m\u001b[0;34m)\u001b[0m\u001b[0;34m,\u001b[0m\u001b[0mTemp\u001b[0m\u001b[0;34m)\u001b[0m\u001b[0;34m*\u001b[0m\u001b[0mF\u001b[0m\u001b[0;34m(\u001b[0m\u001b[0my2row\u001b[0m\u001b[0;34m(\u001b[0m\u001b[0my1\u001b[0m\u001b[0;34m,\u001b[0m\u001b[0msize\u001b[0m\u001b[0;34m)\u001b[0m\u001b[0;34m,\u001b[0m\u001b[0my2row\u001b[0m\u001b[0;34m(\u001b[0m\u001b[0my2\u001b[0m\u001b[0;34m,\u001b[0m\u001b[0msize\u001b[0m\u001b[0;34m)\u001b[0m\u001b[0;34m,\u001b[0m\u001b[0mTemp\u001b[0m\u001b[0;34m)\u001b[0m\u001b[0;31m \u001b[0m\u001b[0;31m\\\u001b[0m\u001b[0;34m\u001b[0m\u001b[0;34m\u001b[0m\u001b[0m\n\u001b[0m\u001b[1;32m     10\u001b[0m               \u001b[0;34m/\u001b[0m \u001b[0mTs\u001b[0m\u001b[0;34m[\u001b[0m\u001b[0mi\u001b[0m\u001b[0;34m]\u001b[0m\u001b[0;34m[\u001b[0m\u001b[0my2\u001b[0m\u001b[0;34m]\u001b[0m\u001b[0;34m\u001b[0m\u001b[0;34m\u001b[0m\u001b[0m\n\u001b[1;32m     11\u001b[0m         \u001b[0mps\u001b[0m\u001b[0;34m.\u001b[0m\u001b[0mappend\u001b[0m\u001b[0;34m(\u001b[0m\u001b[0mp_next\u001b[0m\u001b[0;34m)\u001b[0m\u001b[0;34m\u001b[0m\u001b[0;34m\u001b[0m\u001b[0m\n",
      "\u001b[0;32m<ipython-input-3-83a7ef7aa004>\u001b[0m in \u001b[0;36mF\u001b[0;34m(row_s, row_t, Temp)\u001b[0m\n\u001b[1;32m      1\u001b[0m \u001b[0;31m# Exercise 2\u001b[0m\u001b[0;34m\u001b[0m\u001b[0;34m\u001b[0m\u001b[0;34m\u001b[0m\u001b[0m\n\u001b[1;32m      2\u001b[0m \u001b[0;32mdef\u001b[0m \u001b[0mF\u001b[0m\u001b[0;34m(\u001b[0m\u001b[0mrow_s\u001b[0m\u001b[0;34m,\u001b[0m \u001b[0mrow_t\u001b[0m\u001b[0;34m,\u001b[0m \u001b[0mTemp\u001b[0m\u001b[0;34m)\u001b[0m\u001b[0;34m:\u001b[0m\u001b[0;34m\u001b[0m\u001b[0;34m\u001b[0m\u001b[0m\n\u001b[0;32m----> 3\u001b[0;31m     \u001b[0;32mreturn\u001b[0m \u001b[0mnp\u001b[0m\u001b[0;34m.\u001b[0m\u001b[0mexp\u001b[0m\u001b[0;34m(\u001b[0m\u001b[0;36m1\u001b[0m\u001b[0;34m/\u001b[0m\u001b[0mTemp\u001b[0m \u001b[0;34m*\u001b[0m \u001b[0mrow_s\u001b[0m\u001b[0;34m@\u001b[0m\u001b[0mrow_t\u001b[0m\u001b[0;34m.\u001b[0m\u001b[0mT\u001b[0m\u001b[0;34m)\u001b[0m\u001b[0;34m\u001b[0m\u001b[0;34m\u001b[0m\u001b[0m\n\u001b[0m",
      "\u001b[0;31mKeyboardInterrupt\u001b[0m: "
     ]
    }
   ],
   "source": [
    "# Exercise 7\n",
    "\n",
    "fig, axs = plt.subplots(nrows=3, ncols= 10)\n",
    "for i, Temp in enumerate([1,1.5,2]):\n",
    "    exact_samples = sample_n(10, 8, Temp)\n",
    "    for j, sample in enumerate(exact_samples):\n",
    "        axs[i,j].imshow(sample, interpolation='None')\n",
    "        axs[i,j].axis('off')\n",
    "        if j==0:\n",
    "            axs[i,j].set_title('temp={}'.format(Temp))\n",
    "\n",
    "\n"
   ]
  },
  {
   "cell_type": "code",
   "execution_count": 82,
   "metadata": {},
   "outputs": [
    {
     "output_type": "error",
     "ename": "TypeError",
     "evalue": "'int' object is not callable",
     "traceback": [
      "\u001b[0;31m---------------------------------------------------------------------------\u001b[0m",
      "\u001b[0;31mTypeError\u001b[0m                                 Traceback (most recent call last)",
      "\u001b[0;32m<ipython-input-82-721ade31d1b8>\u001b[0m in \u001b[0;36m<module>\u001b[0;34m\u001b[0m\n\u001b[1;32m      4\u001b[0m \u001b[0mn\u001b[0m \u001b[0;34m=\u001b[0m \u001b[0;36m10000\u001b[0m\u001b[0;34m\u001b[0m\u001b[0;34m\u001b[0m\u001b[0m\n\u001b[1;32m      5\u001b[0m \u001b[0;32mfor\u001b[0m \u001b[0mTemp\u001b[0m \u001b[0;32min\u001b[0m \u001b[0;34m[\u001b[0m\u001b[0;36m1\u001b[0m\u001b[0;34m,\u001b[0m\u001b[0;36m1.5\u001b[0m\u001b[0;34m,\u001b[0m\u001b[0;36m2\u001b[0m\u001b[0;34m]\u001b[0m\u001b[0;34m:\u001b[0m\u001b[0;34m\u001b[0m\u001b[0;34m\u001b[0m\u001b[0m\n\u001b[0;32m----> 6\u001b[0;31m     \u001b[0mTs\u001b[0m \u001b[0;34m=\u001b[0m \u001b[0mget_Ts\u001b[0m\u001b[0;34m(\u001b[0m\u001b[0msize\u001b[0m\u001b[0;34m,\u001b[0m \u001b[0mTemp\u001b[0m\u001b[0;34m)\u001b[0m\u001b[0;34m\u001b[0m\u001b[0;34m\u001b[0m\u001b[0m\n\u001b[0m\u001b[1;32m      7\u001b[0m     \u001b[0mps\u001b[0m \u001b[0;34m=\u001b[0m \u001b[0mget_ps\u001b[0m\u001b[0;34m(\u001b[0m\u001b[0msize\u001b[0m\u001b[0;34m,\u001b[0m \u001b[0mTemp\u001b[0m\u001b[0;34m,\u001b[0m \u001b[0mTs\u001b[0m\u001b[0;34m)\u001b[0m\u001b[0;34m\u001b[0m\u001b[0;34m\u001b[0m\u001b[0m\n\u001b[1;32m      8\u001b[0m     \u001b[0mps_table\u001b[0m \u001b[0;34m=\u001b[0m \u001b[0mget_ps_table\u001b[0m\u001b[0;34m(\u001b[0m\u001b[0msize\u001b[0m\u001b[0;34m,\u001b[0m\u001b[0mTemp\u001b[0m\u001b[0;34m,\u001b[0m \u001b[0mps\u001b[0m\u001b[0;34m)\u001b[0m\u001b[0;34m\u001b[0m\u001b[0;34m\u001b[0m\u001b[0m\n",
      "\u001b[0;32m<ipython-input-7-c8901b891f66>\u001b[0m in \u001b[0;36mget_Ts\u001b[0;34m(size, Temp)\u001b[0m\n\u001b[1;32m      2\u001b[0m     \u001b[0mTs\u001b[0m \u001b[0;34m=\u001b[0m \u001b[0;34m[\u001b[0m\u001b[0;34m]\u001b[0m\u001b[0;34m\u001b[0m\u001b[0;34m\u001b[0m\u001b[0m\n\u001b[1;32m      3\u001b[0m     \u001b[0my_range\u001b[0m \u001b[0;34m=\u001b[0m \u001b[0mrange\u001b[0m\u001b[0;34m(\u001b[0m\u001b[0;36m2\u001b[0m\u001b[0;34m**\u001b[0m\u001b[0msize\u001b[0m\u001b[0;34m)\u001b[0m\u001b[0;34m\u001b[0m\u001b[0;34m\u001b[0m\u001b[0m\n\u001b[0;32m----> 4\u001b[0;31m     T1 = [sum([G(y2row(y1,size),Temp)*F(y2row(y1,size),y2row(y2,size),Temp) \\\n\u001b[0m\u001b[1;32m      5\u001b[0m                         for y1 in y_range]) \\\n\u001b[1;32m      6\u001b[0m                             for y2 in y_range]\n",
      "\u001b[0;32m<ipython-input-7-c8901b891f66>\u001b[0m in \u001b[0;36m<listcomp>\u001b[0;34m(.0)\u001b[0m\n\u001b[1;32m      2\u001b[0m     \u001b[0mTs\u001b[0m \u001b[0;34m=\u001b[0m \u001b[0;34m[\u001b[0m\u001b[0;34m]\u001b[0m\u001b[0;34m\u001b[0m\u001b[0;34m\u001b[0m\u001b[0m\n\u001b[1;32m      3\u001b[0m     \u001b[0my_range\u001b[0m \u001b[0;34m=\u001b[0m \u001b[0mrange\u001b[0m\u001b[0;34m(\u001b[0m\u001b[0;36m2\u001b[0m\u001b[0;34m**\u001b[0m\u001b[0msize\u001b[0m\u001b[0;34m)\u001b[0m\u001b[0;34m\u001b[0m\u001b[0;34m\u001b[0m\u001b[0m\n\u001b[0;32m----> 4\u001b[0;31m     T1 = [sum([G(y2row(y1,size),Temp)*F(y2row(y1,size),y2row(y2,size),Temp) \\\n\u001b[0m\u001b[1;32m      5\u001b[0m                         for y1 in y_range]) \\\n\u001b[1;32m      6\u001b[0m                             for y2 in y_range]\n",
      "\u001b[0;31mTypeError\u001b[0m: 'int' object is not callable"
     ]
    }
   ],
   "source": [
    "# Exercise 8\n",
    "import time\n",
    "size = 8\n",
    "n = 10000\n",
    "for Temp in [1,1.5,2]:\n",
    "    Ts = get_Ts(size, Temp)\n",
    "    ps = get_ps(size, Temp, Ts)\n",
    "    ps_table = get_ps_table(size,Temp, ps)\n",
    "    Sum_1122 = 0\n",
    "    Sum_1188 = 0\n",
    "    for _ in range(n):\n",
    "        s = single_sample(size,Temp, Ts, ps_table)\n",
    "        Sum_1122 += s[0,0]*s[1,1] \n",
    "        Sum_1188 += s[0,0]*s[7,7] \n",
    "    print(\"Temp:{}, E_X({},{})X({},{}): {}\".format(Temp,1,1,2,2,Sum_1122/n))\n",
    "    print(\"Temp:{} , E_X({},{})X({},{}): {}\".format(Temp,1,1,8,8,Sum_1188/n))\n"
   ]
  },
  {
   "cell_type": "code",
   "execution_count": null,
   "metadata": {},
   "outputs": [],
   "source": [
    "\n",
    "# Using the results of the Computer Exercise above, \n",
    "# explain the relative values of Eb, in terms of the spatial distance of the lattice sites and in terms\n",
    "# of the temperature."
   ]
  },
  {
   "cell_type": "code",
   "execution_count": null,
   "metadata": {},
   "outputs": [],
   "source": [
    "def pad_with(vector, pad_width, iaxis, kwargs):\n",
    "    pad_value = kwargs.get('padder', 0)\n",
    "    vector[:pad_width[0]] = pad_value\n",
    "    vector[-pad_width[1]:] = pad_value"
   ]
  },
  {
   "cell_type": "code",
   "execution_count": 14,
   "metadata": {},
   "outputs": [],
   "source": [
    "def random_lattice(size):\n",
    "    return np.random.randint(low=0,high=2,size=(size,size))*2-1"
   ]
  },
  {
   "cell_type": "code",
   "execution_count": 18,
   "metadata": {
    "tags": []
   },
   "outputs": [
    {
     "output_type": "stream",
     "name": "stdout",
     "text": [
      "-1 -1\n",
      "1 -1\n",
      "1 1\n",
      "1 1\n",
      "1 1\n",
      "1 1\n",
      "1 1\n",
      "1 1\n",
      "1 1\n",
      "1 1\n",
      "1 -1\n",
      "-1 -1\n",
      "-1 -1\n",
      "1 1\n",
      "1 1\n",
      "1 1\n",
      "1 -1\n",
      "1 1\n",
      "1 -1\n",
      "1 1\n",
      "1 1\n",
      "1 -1\n",
      "1 1\n",
      "1 1\n",
      "1 1\n",
      "1 1\n",
      "1 -1\n",
      "1 1\n"
     ]
    },
    {
     "output_type": "error",
     "ename": "KeyboardInterrupt",
     "evalue": "",
     "traceback": [
      "\u001b[0;31m---------------------------------------------------------------------------\u001b[0m",
      "\u001b[0;31mKeyboardInterrupt\u001b[0m                         Traceback (most recent call last)",
      "\u001b[0;32m<ipython-input-18-aeaccdfc078f>\u001b[0m in \u001b[0;36m<module>\u001b[0;34m\u001b[0m\n\u001b[1;32m     15\u001b[0m         \u001b[0msmpl\u001b[0m \u001b[0;34m=\u001b[0m \u001b[0mnp\u001b[0m\u001b[0;34m.\u001b[0m\u001b[0mpad\u001b[0m\u001b[0;34m(\u001b[0m\u001b[0mrandom_lattice\u001b[0m\u001b[0;34m(\u001b[0m\u001b[0msize\u001b[0m\u001b[0;34m)\u001b[0m\u001b[0;34m,\u001b[0m\u001b[0;36m1\u001b[0m\u001b[0;34m,\u001b[0m \u001b[0mpad_with\u001b[0m\u001b[0;34m)\u001b[0m\u001b[0;34m\u001b[0m\u001b[0;34m\u001b[0m\u001b[0m\n\u001b[1;32m     16\u001b[0m         \u001b[0;32mfor\u001b[0m \u001b[0m_\u001b[0m \u001b[0;32min\u001b[0m \u001b[0mrange\u001b[0m\u001b[0;34m(\u001b[0m\u001b[0mn_shifts\u001b[0m\u001b[0;34m)\u001b[0m\u001b[0;34m:\u001b[0m\u001b[0;34m\u001b[0m\u001b[0;34m\u001b[0m\u001b[0m\n\u001b[0;32m---> 17\u001b[0;31m             \u001b[0;32mfor\u001b[0m \u001b[0mi\u001b[0m \u001b[0;32min\u001b[0m \u001b[0mrange\u001b[0m\u001b[0;34m(\u001b[0m\u001b[0;36m1\u001b[0m\u001b[0;34m,\u001b[0m\u001b[0msize\u001b[0m\u001b[0;34m+\u001b[0m\u001b[0;36m1\u001b[0m\u001b[0;34m)\u001b[0m\u001b[0;34m:\u001b[0m\u001b[0;34m\u001b[0m\u001b[0;34m\u001b[0m\u001b[0m\n\u001b[0m\u001b[1;32m     18\u001b[0m                 \u001b[0;32mfor\u001b[0m \u001b[0mj\u001b[0m \u001b[0;32min\u001b[0m \u001b[0mrange\u001b[0m\u001b[0;34m(\u001b[0m\u001b[0;36m1\u001b[0m\u001b[0;34m,\u001b[0m\u001b[0msize\u001b[0m\u001b[0;34m+\u001b[0m\u001b[0;36m1\u001b[0m\u001b[0;34m)\u001b[0m\u001b[0;34m:\u001b[0m\u001b[0;34m\u001b[0m\u001b[0;34m\u001b[0m\u001b[0m\n\u001b[1;32m     19\u001b[0m                     \u001b[0mneibs\u001b[0m \u001b[0;34m=\u001b[0m \u001b[0mnp\u001b[0m\u001b[0;34m.\u001b[0m\u001b[0marray\u001b[0m\u001b[0;34m(\u001b[0m\u001b[0msmpl\u001b[0m\u001b[0;34m[\u001b[0m\u001b[0;34m(\u001b[0m\u001b[0mneigbs_indecis\u001b[0m\u001b[0;34m[\u001b[0m\u001b[0;36m0\u001b[0m\u001b[0;34m]\u001b[0m\u001b[0;34m+\u001b[0m\u001b[0mi\u001b[0m\u001b[0;34m,\u001b[0m \u001b[0mneigbs_indecis\u001b[0m\u001b[0;34m[\u001b[0m\u001b[0;36m1\u001b[0m\u001b[0;34m]\u001b[0m\u001b[0;34m+\u001b[0m\u001b[0mj\u001b[0m\u001b[0;34m)\u001b[0m\u001b[0;34m]\u001b[0m\u001b[0;34m)\u001b[0m\u001b[0;34m\u001b[0m\u001b[0;34m\u001b[0m\u001b[0m\n",
      "\u001b[0;31mKeyboardInterrupt\u001b[0m: "
     ]
    }
   ],
   "source": [
    "# Exercise 9\n",
    "size = 8 \n",
    "n = 50\n",
    "n_shifts = 25\n",
    "neigbs_indecis = np.array([\n",
    "    np.array([1,0,-1,0]),\n",
    "    np.array([0,1,0,-1])\n",
    "])\n",
    "sample = np.pad(random_lattice(size),1, pad_with)\n",
    "# Independent Samples\n",
    "for Temp in [1,1.5,2]:\n",
    "    Sum_1122 = 0\n",
    "    Sum_1188 = 0\n",
    "    for _ in range(n):\n",
    "        smpl = np.pad(random_lattice(size),1, pad_with)\n",
    "        for _ in range(n_shifts):\n",
    "            for i in range(1,size+1):\n",
    "                for j in range(1,size+1):\n",
    "                    neibs = np.array(smpl[(neigbs_indecis[0]+i, neigbs_indecis[1]+j)])\n",
    "                    in_exp = np.sum(neibs) / Temp\n",
    "                    plus_ratio = np.exp(in_exp)\n",
    "                    minus_ratio = np.exp(-in_exp)\n",
    "                    p = [plus_ratio, minus_ratio] / (plus_ratio + minus_ratio)\n",
    "                    smpl[i,j] = np.random.choice([1,-1], p=p)\n",
    "        Sum_1122 += smpl[1,1]*smpl[2,2]\n",
    "        Sum_1188 += smpl[1,1]*smpl[size,size]\n",
    "    print(\"Temp:{}, E_X({},{})X({},{}): {}\".format(Temp,1,1,2,2,Sum_1122/n))\n",
    "    print(\"Temp:{} , E_X({},{})X({},{}): {}\".format(Temp,1,1,8,8,Sum_1188/n))\n"
   ]
  },
  {
   "cell_type": "code",
   "execution_count": null,
   "metadata": {},
   "outputs": [],
   "source": []
  }
 ],
 "metadata": {
  "kernelspec": {
   "display_name": "Python 3",
   "language": "python",
   "name": "python3"
  },
  "language_info": {
   "codemirror_mode": {
    "name": "ipython",
    "version": 3
   },
   "file_extension": ".py",
   "mimetype": "text/x-python",
   "name": "python",
   "nbconvert_exporter": "python",
   "pygments_lexer": "ipython3",
   "version": "3.8.5-final"
  }
 },
 "nbformat": 4,
 "nbformat_minor": 5
}