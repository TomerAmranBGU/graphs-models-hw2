{
 "cells": [
  {
   "cell_type": "code",
   "execution_count": 1,
   "id": "11e05293",
   "metadata": {},
   "outputs": [],
   "source": [
    "import numpy as np\n",
    "import itertools\n",
    "import matplotlib.pyplot as plt\n"
   ]
  },
  {
   "cell_type": "code",
   "execution_count": 2,
   "id": "ef15ed48",
   "metadata": {},
   "outputs": [],
   "source": [
    "# Exercise 1\n",
    "def G(row_s, Temp):\n",
    "    return np.exp(1/Temp * row_s[:-1]@row_s[1:].T)\n"
   ]
  },
  {
   "cell_type": "code",
   "execution_count": 3,
   "id": "2889221e",
   "metadata": {},
   "outputs": [],
   "source": [
    "\n",
    "# Exercise 2\n",
    "def F(row_s, row_t, Temp):\n",
    "    return np.exp(1/Temp * row_s@row_t.T)\n"
   ]
  },
  {
   "cell_type": "code",
   "execution_count": 4,
   "id": "5fb621fa",
   "metadata": {},
   "outputs": [
    {
     "output_type": "stream",
     "name": "stdout",
     "text": [
      "Temp:1, size: 2x2, Ztemp:  121.23293134406595\nTemp:1.5, size: 2x2, Ztemp:  40.922799092745386\nTemp:2, size: 2x2, Ztemp:  27.048782764334526\n"
     ]
    }
   ],
   "source": [
    "# exercise 3\n",
    "# to achive the Ztemp definition we can combine G and F with exponent multipication rules\n",
    "def Ztemp_2(Temp):\n",
    "    # options = np.array(np.meshgrid([-1,1],[-1,1])).T.reshape(-1,2)\n",
    "    options = itertools.product([-1,1], repeat = 4)\n",
    "    res = 0\n",
    "    for option in options:\n",
    "        grid = np.array(option).reshape(2,2)\n",
    "        row_s = grid[0]\n",
    "        row_t = grid[1]\n",
    "        res += G(row_s,Temp)*G(row_t,Temp)*F(row_s,row_t,Temp);\n",
    "    return res\n",
    "print(\"Temp:1, size: 2x2, Ztemp: \",Ztemp_2(1))\n",
    "print(\"Temp:1.5, size: 2x2, Ztemp: \",Ztemp_2(1.5))\n",
    "print(\"Temp:2, size: 2x2, Ztemp: \",Ztemp_2(2))\n"
   ]
  },
  {
   "cell_type": "code",
   "execution_count": 5,
   "id": "9357ad8f",
   "metadata": {},
   "outputs": [
    {
     "output_type": "stream",
     "name": "stdout",
     "text": [
      "Temp:1, size: 3x3, Ztemp:  365645.7491357704\n",
      "Temp:1.5, size: 3x3, Ztemp:  10565.421983514265\n",
      "Temp:2, size: 3x3, Ztemp:  2674.518123060087\n"
     ]
    }
   ],
   "source": [
    "# Exercise 4\n",
    "def Ztemp_3(Temp):\n",
    "    # options = np.array(np.meshgrid([-1,1],[-1,1])).T.reshape(-1,2)\n",
    "    options = itertools.product([-1,1], repeat = 9)\n",
    "    res = 0\n",
    "    for option in options:\n",
    "        grid = np.array(option).reshape(3,3)\n",
    "        \n",
    "        res += G(grid[0],Temp)*G(grid[1],Temp)*G(grid[2],Temp) \\\n",
    "                *F(grid[0],grid[1],Temp)*F(grid[1],grid[2],Temp);\n",
    "    return res\n",
    "print(\"Temp:1, size: 3x3, Ztemp: \",Ztemp_3(1))\n",
    "print(\"Temp:1.5, size: 3x3, Ztemp: \",Ztemp_3(1.5))\n",
    "print(\"Temp:2, size: 3x3, Ztemp: \",Ztemp_3(2))\n"
   ]
  },
  {
   "cell_type": "code",
   "execution_count": 6,
   "id": "bef6dc3d",
   "metadata": {},
   "outputs": [
    {
     "output_type": "stream",
     "name": "stdout",
     "text": [
      "Temp:1, size: 2x2, Ztemp:  121.23293134406595\n",
      "Temp:1.5, size: 2x2, Ztemp:  40.922799092745386\n",
      "Temp:2, size: 2x2, Ztemp:  27.048782764334526\n",
      " \n",
      "Temp:1, size: 3x3, Ztemp:  365645.7491357704\n",
      "Temp:1.5, size: 3x3, Ztemp:  10565.421983514265\n",
      "Temp:2, size: 3x3, Ztemp:  2674.518123060087\n"
     ]
    }
   ],
   "source": [
    "# Exrecise 5+6\n",
    "def y2row(y,width=8):\n",
    "    \"\"\"\n",
    "    y: an integer in (0,...,(2**width)-1)\n",
    "    \"\"\"\n",
    "    if not 0<=y<=(2**width)-1:\n",
    "        raise ValueError(y)\n",
    "    my_str=np.binary_repr(y,width=width)\n",
    "    # my_list = map(int,my_str) # Python 2\n",
    "    my_list = list(map(int,my_str)) # Python 3\n",
    "    my_array = np.asarray(my_list)\n",
    "    my_array[my_array==0]=-1\n",
    "    row=my_array\n",
    "    return row\n",
    "\n",
    "def Ztemp_ys(Temp, size):\n",
    "    res =0\n",
    "    for yS in itertools.product([y2row(num,size) for num in range(2**size)], repeat=size):\n",
    "        inner_res = 1 \n",
    "        for y_i in yS:\n",
    "            inner_res *= G(y_i,Temp)\n",
    "        for i in range(size-1):\n",
    "            inner_res *= F(yS[i],yS[i+1],Temp)\n",
    "        res += inner_res\n",
    "    return res\n",
    "print(\"Temp:1, size: 2x2, Ztemp: \",Ztemp_ys(1,2))\n",
    "print(\"Temp:1.5, size: 2x2, Ztemp: \",Ztemp_ys(1.5,2))\n",
    "print(\"Temp:2, size: 2x2, Ztemp: \",Ztemp_ys(2,2))\n",
    "print(\" \")\n",
    "print(\"Temp:1, size: 3x3, Ztemp: \",Ztemp_ys(1,3))\n",
    "print(\"Temp:1.5, size: 3x3, Ztemp: \",Ztemp_ys(1.5,3))\n",
    "print(\"Temp:2, size: 3x3, Ztemp: \",Ztemp_ys(2,3))"
   ]
  },
  {
   "cell_type": "code",
   "execution_count": 7,
   "metadata": {},
   "outputs": [],
   "source": [
    "def get_Ts(size, Temp):\n",
    "    Ts = []\n",
    "    y_range = range(2**size)\n",
    "    T1 = [sum([G(y2row(y1,size),Temp)*F(y2row(y1,size),y2row(y2,size),Temp) \\\n",
    "                        for y1 in y_range]) \\\n",
    "                            for y2 in y_range]\n",
    "    Ts.append(T1)\n",
    "    Tprev = T1\n",
    "    for _ in range(1,size-1):\n",
    "        Tnext = [sum([Tprev[y1]*G(y2row(y1,size),Temp)*F(y2row(y1,size),y2row(y2,size),Temp) \\\n",
    "                        for y1 in y_range]) \\\n",
    "                            for y2 in y_range]\n",
    "        Ts.append(Tnext)\n",
    "        Tprev = Tnext\n",
    "    Tlast = sum([Tprev[y]*G(y2row(y,size),Temp) for y in y_range])\n",
    "    Ts.append(Tlast)\n",
    "    return Ts"
   ]
  },
  {
   "cell_type": "code",
   "execution_count": 8,
   "metadata": {},
   "outputs": [],
   "source": [
    "\n",
    "def get_ps(size, Temp, Ts):\n",
    "    y_range = range(2**size)\n",
    "    Ztemp = Ts[-1]\n",
    "    ps = []\n",
    "    p_first = lambda y: Ts[-2][y]*G(y2row(y,size),Temp)/Ztemp\n",
    "    ps.append(p_first)\n",
    "    p_prev = p_first\n",
    "    for i in range(size-2, 0, -1):\n",
    "        p_next = lambda y1,y2: Ts[i-1][y1]* G(y2row(y1,size),Temp)*F(y2row(y1,size),y2row(y2,size),Temp) \\\n",
    "              / Ts[i][y2]\n",
    "        ps.append(p_next)\n",
    "        p_prev = p_next\n",
    "    p_last = lambda y1,y2: G(y2row(y1,size),Temp)*F(y2row(y1,size),y2row(y2,size),Temp) / Ts[0][y2]\n",
    "    ps.append(p_last)\n",
    "    return ps"
   ]
  },
  {
   "cell_type": "code",
   "execution_count": 9,
   "metadata": {},
   "outputs": [],
   "source": [
    "def get_ps_table(size, Temp, ps):\n",
    "    ps_table = []\n",
    "    y_range = range(2**size)\n",
    "    ps_table.append([ps[0](y) for y in y_range])\n",
    "    for i in range(1,size):\n",
    "        ps_table.append([[ps[i](y1,y2) for y1 in y_range] for y2 in y_range])\n",
    "    return ps_table\n",
    "\n"
   ]
  },
  {
   "cell_type": "code",
   "execution_count": 10,
   "metadata": {},
   "outputs": [],
   "source": [
    "def single_sample(size, Temp, Ts, ps_table):\n",
    "    # Ts = get_Ts(size, Temp)\n",
    "    # ps = get_ps(size, Temp, Ts)\n",
    "    sample = []\n",
    "    y_range = range(2**size)\n",
    "    y_first = np.random.choice(y_range, p=ps_table[0])\n",
    "    sample.append(y_first)\n",
    "    y_prev = y_first\n",
    "    for i in range(1,size):\n",
    "        y_next =  np.random.choice(y_range, p=ps_table[i][y_prev])\n",
    "        sample.append(y_next)\n",
    "        y_prev = y_next\n",
    "    #no need for last\n",
    "    parsed_sample = np.array([np.array(y2row(y,size)) for y in sample])\n",
    "    return parsed_sample\n"
   ]
  },
  {
   "cell_type": "code",
   "execution_count": 11,
   "metadata": {},
   "outputs": [],
   "source": [
    "\n",
    "def sample_n(n, size, Temp):\n",
    "    Ts = get_Ts(size, Temp)\n",
    "    ps = get_ps(size, Temp, Ts)\n",
    "    ps_table = get_ps_table(size,Temp, ps)\n",
    "    samples = np.empty((n,size,size))\n",
    "    for i in range(n):\n",
    "        samples[i] = single_sample(size,Temp, Ts, ps_table)\n",
    "    return samples\n"
   ]
  },
  {
   "cell_type": "code",
   "execution_count": 12,
   "id": "d80fa8a7",
   "metadata": {},
   "outputs": [
    {
     "output_type": "error",
     "ename": "KeyboardInterrupt",
     "evalue": "",
     "traceback": [
      "\u001b[0;31m---------------------------------------------------------------------------\u001b[0m",
      "\u001b[0;31mKeyboardInterrupt\u001b[0m                         Traceback (most recent call last)",
      "\u001b[0;32m<ipython-input-12-af7666ddfa62>\u001b[0m in \u001b[0;36m<module>\u001b[0;34m\u001b[0m\n\u001b[1;32m      3\u001b[0m \u001b[0mfig\u001b[0m\u001b[0;34m,\u001b[0m \u001b[0maxs\u001b[0m \u001b[0;34m=\u001b[0m \u001b[0mplt\u001b[0m\u001b[0;34m.\u001b[0m\u001b[0msubplots\u001b[0m\u001b[0;34m(\u001b[0m\u001b[0mnrows\u001b[0m\u001b[0;34m=\u001b[0m\u001b[0;36m3\u001b[0m\u001b[0;34m,\u001b[0m \u001b[0mncols\u001b[0m\u001b[0;34m=\u001b[0m \u001b[0;36m10\u001b[0m\u001b[0;34m)\u001b[0m\u001b[0;34m\u001b[0m\u001b[0;34m\u001b[0m\u001b[0m\n\u001b[1;32m      4\u001b[0m \u001b[0;32mfor\u001b[0m \u001b[0mi\u001b[0m\u001b[0;34m,\u001b[0m \u001b[0mTemp\u001b[0m \u001b[0;32min\u001b[0m \u001b[0menumerate\u001b[0m\u001b[0;34m(\u001b[0m\u001b[0;34m[\u001b[0m\u001b[0;36m1\u001b[0m\u001b[0;34m,\u001b[0m\u001b[0;36m1.5\u001b[0m\u001b[0;34m,\u001b[0m\u001b[0;36m2\u001b[0m\u001b[0;34m]\u001b[0m\u001b[0;34m)\u001b[0m\u001b[0;34m:\u001b[0m\u001b[0;34m\u001b[0m\u001b[0;34m\u001b[0m\u001b[0m\n\u001b[0;32m----> 5\u001b[0;31m     \u001b[0mexact_samples\u001b[0m \u001b[0;34m=\u001b[0m \u001b[0msample_n\u001b[0m\u001b[0;34m(\u001b[0m\u001b[0;36m10\u001b[0m\u001b[0;34m,\u001b[0m \u001b[0;36m8\u001b[0m\u001b[0;34m,\u001b[0m \u001b[0mTemp\u001b[0m\u001b[0;34m)\u001b[0m\u001b[0;34m\u001b[0m\u001b[0;34m\u001b[0m\u001b[0m\n\u001b[0m\u001b[1;32m      6\u001b[0m     \u001b[0;32mfor\u001b[0m \u001b[0mj\u001b[0m\u001b[0;34m,\u001b[0m \u001b[0msample\u001b[0m \u001b[0;32min\u001b[0m \u001b[0menumerate\u001b[0m\u001b[0;34m(\u001b[0m\u001b[0mexact_samples\u001b[0m\u001b[0;34m)\u001b[0m\u001b[0;34m:\u001b[0m\u001b[0;34m\u001b[0m\u001b[0;34m\u001b[0m\u001b[0m\n\u001b[1;32m      7\u001b[0m         \u001b[0maxs\u001b[0m\u001b[0;34m[\u001b[0m\u001b[0mi\u001b[0m\u001b[0;34m,\u001b[0m\u001b[0mj\u001b[0m\u001b[0;34m]\u001b[0m\u001b[0;34m.\u001b[0m\u001b[0mimshow\u001b[0m\u001b[0;34m(\u001b[0m\u001b[0msample\u001b[0m\u001b[0;34m,\u001b[0m \u001b[0minterpolation\u001b[0m\u001b[0;34m=\u001b[0m\u001b[0;34m'None'\u001b[0m\u001b[0;34m)\u001b[0m\u001b[0;34m\u001b[0m\u001b[0;34m\u001b[0m\u001b[0m\n",
      "\u001b[0;32m<ipython-input-11-8a7f33a7cde5>\u001b[0m in \u001b[0;36msample_n\u001b[0;34m(n, size, Temp)\u001b[0m\n\u001b[1;32m      2\u001b[0m     \u001b[0mTs\u001b[0m \u001b[0;34m=\u001b[0m \u001b[0mget_Ts\u001b[0m\u001b[0;34m(\u001b[0m\u001b[0msize\u001b[0m\u001b[0;34m,\u001b[0m \u001b[0mTemp\u001b[0m\u001b[0;34m)\u001b[0m\u001b[0;34m\u001b[0m\u001b[0;34m\u001b[0m\u001b[0m\n\u001b[1;32m      3\u001b[0m     \u001b[0mps\u001b[0m \u001b[0;34m=\u001b[0m \u001b[0mget_ps\u001b[0m\u001b[0;34m(\u001b[0m\u001b[0msize\u001b[0m\u001b[0;34m,\u001b[0m \u001b[0mTemp\u001b[0m\u001b[0;34m,\u001b[0m \u001b[0mTs\u001b[0m\u001b[0;34m)\u001b[0m\u001b[0;34m\u001b[0m\u001b[0;34m\u001b[0m\u001b[0m\n\u001b[0;32m----> 4\u001b[0;31m     \u001b[0mps_table\u001b[0m \u001b[0;34m=\u001b[0m \u001b[0mget_ps_table\u001b[0m\u001b[0;34m(\u001b[0m\u001b[0msize\u001b[0m\u001b[0;34m,\u001b[0m\u001b[0mTemp\u001b[0m\u001b[0;34m,\u001b[0m \u001b[0mps\u001b[0m\u001b[0;34m)\u001b[0m\u001b[0;34m\u001b[0m\u001b[0;34m\u001b[0m\u001b[0m\n\u001b[0m\u001b[1;32m      5\u001b[0m     \u001b[0msamples\u001b[0m \u001b[0;34m=\u001b[0m \u001b[0mnp\u001b[0m\u001b[0;34m.\u001b[0m\u001b[0mempty\u001b[0m\u001b[0;34m(\u001b[0m\u001b[0;34m(\u001b[0m\u001b[0mn\u001b[0m\u001b[0;34m,\u001b[0m\u001b[0msize\u001b[0m\u001b[0;34m,\u001b[0m\u001b[0msize\u001b[0m\u001b[0;34m)\u001b[0m\u001b[0;34m)\u001b[0m\u001b[0;34m\u001b[0m\u001b[0;34m\u001b[0m\u001b[0m\n\u001b[1;32m      6\u001b[0m     \u001b[0;32mfor\u001b[0m \u001b[0mi\u001b[0m \u001b[0;32min\u001b[0m \u001b[0mrange\u001b[0m\u001b[0;34m(\u001b[0m\u001b[0mn\u001b[0m\u001b[0;34m)\u001b[0m\u001b[0;34m:\u001b[0m\u001b[0;34m\u001b[0m\u001b[0;34m\u001b[0m\u001b[0m\n",
      "\u001b[0;32m<ipython-input-9-98d6fe629476>\u001b[0m in \u001b[0;36mget_ps_table\u001b[0;34m(size, Temp, ps)\u001b[0m\n\u001b[1;32m      4\u001b[0m     \u001b[0mps_table\u001b[0m\u001b[0;34m.\u001b[0m\u001b[0mappend\u001b[0m\u001b[0;34m(\u001b[0m\u001b[0;34m[\u001b[0m\u001b[0mps\u001b[0m\u001b[0;34m[\u001b[0m\u001b[0;36m0\u001b[0m\u001b[0;34m]\u001b[0m\u001b[0;34m(\u001b[0m\u001b[0my\u001b[0m\u001b[0;34m)\u001b[0m \u001b[0;32mfor\u001b[0m \u001b[0my\u001b[0m \u001b[0;32min\u001b[0m \u001b[0my_range\u001b[0m\u001b[0;34m]\u001b[0m\u001b[0;34m)\u001b[0m\u001b[0;34m\u001b[0m\u001b[0;34m\u001b[0m\u001b[0m\n\u001b[1;32m      5\u001b[0m     \u001b[0;32mfor\u001b[0m \u001b[0mi\u001b[0m \u001b[0;32min\u001b[0m \u001b[0mrange\u001b[0m\u001b[0;34m(\u001b[0m\u001b[0;36m1\u001b[0m\u001b[0;34m,\u001b[0m\u001b[0msize\u001b[0m\u001b[0;34m)\u001b[0m\u001b[0;34m:\u001b[0m\u001b[0;34m\u001b[0m\u001b[0;34m\u001b[0m\u001b[0m\n\u001b[0;32m----> 6\u001b[0;31m         \u001b[0mps_table\u001b[0m\u001b[0;34m.\u001b[0m\u001b[0mappend\u001b[0m\u001b[0;34m(\u001b[0m\u001b[0;34m[\u001b[0m\u001b[0;34m[\u001b[0m\u001b[0mps\u001b[0m\u001b[0;34m[\u001b[0m\u001b[0mi\u001b[0m\u001b[0;34m]\u001b[0m\u001b[0;34m(\u001b[0m\u001b[0my1\u001b[0m\u001b[0;34m,\u001b[0m\u001b[0my2\u001b[0m\u001b[0;34m)\u001b[0m \u001b[0;32mfor\u001b[0m \u001b[0my1\u001b[0m \u001b[0;32min\u001b[0m \u001b[0my_range\u001b[0m\u001b[0;34m]\u001b[0m \u001b[0;32mfor\u001b[0m \u001b[0my2\u001b[0m \u001b[0;32min\u001b[0m \u001b[0my_range\u001b[0m\u001b[0;34m]\u001b[0m\u001b[0;34m)\u001b[0m\u001b[0;34m\u001b[0m\u001b[0;34m\u001b[0m\u001b[0m\n\u001b[0m\u001b[1;32m      7\u001b[0m     \u001b[0;32mreturn\u001b[0m \u001b[0mps_table\u001b[0m\u001b[0;34m\u001b[0m\u001b[0;34m\u001b[0m\u001b[0m\n\u001b[1;32m      8\u001b[0m \u001b[0;34m\u001b[0m\u001b[0m\n",
      "\u001b[0;32m<ipython-input-9-98d6fe629476>\u001b[0m in \u001b[0;36m<listcomp>\u001b[0;34m(.0)\u001b[0m\n\u001b[1;32m      4\u001b[0m     \u001b[0mps_table\u001b[0m\u001b[0;34m.\u001b[0m\u001b[0mappend\u001b[0m\u001b[0;34m(\u001b[0m\u001b[0;34m[\u001b[0m\u001b[0mps\u001b[0m\u001b[0;34m[\u001b[0m\u001b[0;36m0\u001b[0m\u001b[0;34m]\u001b[0m\u001b[0;34m(\u001b[0m\u001b[0my\u001b[0m\u001b[0;34m)\u001b[0m \u001b[0;32mfor\u001b[0m \u001b[0my\u001b[0m \u001b[0;32min\u001b[0m \u001b[0my_range\u001b[0m\u001b[0;34m]\u001b[0m\u001b[0;34m)\u001b[0m\u001b[0;34m\u001b[0m\u001b[0;34m\u001b[0m\u001b[0m\n\u001b[1;32m      5\u001b[0m     \u001b[0;32mfor\u001b[0m \u001b[0mi\u001b[0m \u001b[0;32min\u001b[0m \u001b[0mrange\u001b[0m\u001b[0;34m(\u001b[0m\u001b[0;36m1\u001b[0m\u001b[0;34m,\u001b[0m\u001b[0msize\u001b[0m\u001b[0;34m)\u001b[0m\u001b[0;34m:\u001b[0m\u001b[0;34m\u001b[0m\u001b[0;34m\u001b[0m\u001b[0m\n\u001b[0;32m----> 6\u001b[0;31m         \u001b[0mps_table\u001b[0m\u001b[0;34m.\u001b[0m\u001b[0mappend\u001b[0m\u001b[0;34m(\u001b[0m\u001b[0;34m[\u001b[0m\u001b[0;34m[\u001b[0m\u001b[0mps\u001b[0m\u001b[0;34m[\u001b[0m\u001b[0mi\u001b[0m\u001b[0;34m]\u001b[0m\u001b[0;34m(\u001b[0m\u001b[0my1\u001b[0m\u001b[0;34m,\u001b[0m\u001b[0my2\u001b[0m\u001b[0;34m)\u001b[0m \u001b[0;32mfor\u001b[0m \u001b[0my1\u001b[0m \u001b[0;32min\u001b[0m \u001b[0my_range\u001b[0m\u001b[0;34m]\u001b[0m \u001b[0;32mfor\u001b[0m \u001b[0my2\u001b[0m \u001b[0;32min\u001b[0m \u001b[0my_range\u001b[0m\u001b[0;34m]\u001b[0m\u001b[0;34m)\u001b[0m\u001b[0;34m\u001b[0m\u001b[0;34m\u001b[0m\u001b[0m\n\u001b[0m\u001b[1;32m      7\u001b[0m     \u001b[0;32mreturn\u001b[0m \u001b[0mps_table\u001b[0m\u001b[0;34m\u001b[0m\u001b[0;34m\u001b[0m\u001b[0m\n\u001b[1;32m      8\u001b[0m \u001b[0;34m\u001b[0m\u001b[0m\n",
      "\u001b[0;32m<ipython-input-9-98d6fe629476>\u001b[0m in \u001b[0;36m<listcomp>\u001b[0;34m(.0)\u001b[0m\n\u001b[1;32m      4\u001b[0m     \u001b[0mps_table\u001b[0m\u001b[0;34m.\u001b[0m\u001b[0mappend\u001b[0m\u001b[0;34m(\u001b[0m\u001b[0;34m[\u001b[0m\u001b[0mps\u001b[0m\u001b[0;34m[\u001b[0m\u001b[0;36m0\u001b[0m\u001b[0;34m]\u001b[0m\u001b[0;34m(\u001b[0m\u001b[0my\u001b[0m\u001b[0;34m)\u001b[0m \u001b[0;32mfor\u001b[0m \u001b[0my\u001b[0m \u001b[0;32min\u001b[0m \u001b[0my_range\u001b[0m\u001b[0;34m]\u001b[0m\u001b[0;34m)\u001b[0m\u001b[0;34m\u001b[0m\u001b[0;34m\u001b[0m\u001b[0m\n\u001b[1;32m      5\u001b[0m     \u001b[0;32mfor\u001b[0m \u001b[0mi\u001b[0m \u001b[0;32min\u001b[0m \u001b[0mrange\u001b[0m\u001b[0;34m(\u001b[0m\u001b[0;36m1\u001b[0m\u001b[0;34m,\u001b[0m\u001b[0msize\u001b[0m\u001b[0;34m)\u001b[0m\u001b[0;34m:\u001b[0m\u001b[0;34m\u001b[0m\u001b[0;34m\u001b[0m\u001b[0m\n\u001b[0;32m----> 6\u001b[0;31m         \u001b[0mps_table\u001b[0m\u001b[0;34m.\u001b[0m\u001b[0mappend\u001b[0m\u001b[0;34m(\u001b[0m\u001b[0;34m[\u001b[0m\u001b[0;34m[\u001b[0m\u001b[0mps\u001b[0m\u001b[0;34m[\u001b[0m\u001b[0mi\u001b[0m\u001b[0;34m]\u001b[0m\u001b[0;34m(\u001b[0m\u001b[0my1\u001b[0m\u001b[0;34m,\u001b[0m\u001b[0my2\u001b[0m\u001b[0;34m)\u001b[0m \u001b[0;32mfor\u001b[0m \u001b[0my1\u001b[0m \u001b[0;32min\u001b[0m \u001b[0my_range\u001b[0m\u001b[0;34m]\u001b[0m \u001b[0;32mfor\u001b[0m \u001b[0my2\u001b[0m \u001b[0;32min\u001b[0m \u001b[0my_range\u001b[0m\u001b[0;34m]\u001b[0m\u001b[0;34m)\u001b[0m\u001b[0;34m\u001b[0m\u001b[0;34m\u001b[0m\u001b[0m\n\u001b[0m\u001b[1;32m      7\u001b[0m     \u001b[0;32mreturn\u001b[0m \u001b[0mps_table\u001b[0m\u001b[0;34m\u001b[0m\u001b[0;34m\u001b[0m\u001b[0m\n\u001b[1;32m      8\u001b[0m \u001b[0;34m\u001b[0m\u001b[0m\n",
      "\u001b[0;32m<ipython-input-8-613fb54f44ba>\u001b[0m in \u001b[0;36m<lambda>\u001b[0;34m(y1, y2)\u001b[0m\n\u001b[1;32m      7\u001b[0m     \u001b[0mp_prev\u001b[0m \u001b[0;34m=\u001b[0m \u001b[0mp_first\u001b[0m\u001b[0;34m\u001b[0m\u001b[0;34m\u001b[0m\u001b[0m\n\u001b[1;32m      8\u001b[0m     \u001b[0;32mfor\u001b[0m \u001b[0mi\u001b[0m \u001b[0;32min\u001b[0m \u001b[0mrange\u001b[0m\u001b[0;34m(\u001b[0m\u001b[0msize\u001b[0m\u001b[0;34m-\u001b[0m\u001b[0;36m2\u001b[0m\u001b[0;34m,\u001b[0m \u001b[0;36m0\u001b[0m\u001b[0;34m,\u001b[0m \u001b[0;34m-\u001b[0m\u001b[0;36m1\u001b[0m\u001b[0;34m)\u001b[0m\u001b[0;34m:\u001b[0m\u001b[0;34m\u001b[0m\u001b[0;34m\u001b[0m\u001b[0m\n\u001b[0;32m----> 9\u001b[0;31m         \u001b[0mp_next\u001b[0m \u001b[0;34m=\u001b[0m \u001b[0;32mlambda\u001b[0m \u001b[0my1\u001b[0m\u001b[0;34m,\u001b[0m\u001b[0my2\u001b[0m\u001b[0;34m:\u001b[0m \u001b[0mTs\u001b[0m\u001b[0;34m[\u001b[0m\u001b[0mi\u001b[0m\u001b[0;34m-\u001b[0m\u001b[0;36m1\u001b[0m\u001b[0;34m]\u001b[0m\u001b[0;34m[\u001b[0m\u001b[0my1\u001b[0m\u001b[0;34m]\u001b[0m\u001b[0;34m*\u001b[0m \u001b[0mG\u001b[0m\u001b[0;34m(\u001b[0m\u001b[0my2row\u001b[0m\u001b[0;34m(\u001b[0m\u001b[0my1\u001b[0m\u001b[0;34m,\u001b[0m\u001b[0msize\u001b[0m\u001b[0;34m)\u001b[0m\u001b[0;34m,\u001b[0m\u001b[0mTemp\u001b[0m\u001b[0;34m)\u001b[0m\u001b[0;34m*\u001b[0m\u001b[0mF\u001b[0m\u001b[0;34m(\u001b[0m\u001b[0my2row\u001b[0m\u001b[0;34m(\u001b[0m\u001b[0my1\u001b[0m\u001b[0;34m,\u001b[0m\u001b[0msize\u001b[0m\u001b[0;34m)\u001b[0m\u001b[0;34m,\u001b[0m\u001b[0my2row\u001b[0m\u001b[0;34m(\u001b[0m\u001b[0my2\u001b[0m\u001b[0;34m,\u001b[0m\u001b[0msize\u001b[0m\u001b[0;34m)\u001b[0m\u001b[0;34m,\u001b[0m\u001b[0mTemp\u001b[0m\u001b[0;34m)\u001b[0m\u001b[0;31m \u001b[0m\u001b[0;31m\\\u001b[0m\u001b[0;34m\u001b[0m\u001b[0;34m\u001b[0m\u001b[0m\n\u001b[0m\u001b[1;32m     10\u001b[0m               \u001b[0;34m/\u001b[0m \u001b[0mTs\u001b[0m\u001b[0;34m[\u001b[0m\u001b[0mi\u001b[0m\u001b[0;34m]\u001b[0m\u001b[0;34m[\u001b[0m\u001b[0my2\u001b[0m\u001b[0;34m]\u001b[0m\u001b[0;34m\u001b[0m\u001b[0;34m\u001b[0m\u001b[0m\n\u001b[1;32m     11\u001b[0m         \u001b[0mps\u001b[0m\u001b[0;34m.\u001b[0m\u001b[0mappend\u001b[0m\u001b[0;34m(\u001b[0m\u001b[0mp_next\u001b[0m\u001b[0;34m)\u001b[0m\u001b[0;34m\u001b[0m\u001b[0;34m\u001b[0m\u001b[0m\n",
      "\u001b[0;32m<ipython-input-3-83a7ef7aa004>\u001b[0m in \u001b[0;36mF\u001b[0;34m(row_s, row_t, Temp)\u001b[0m\n\u001b[1;32m      1\u001b[0m \u001b[0;31m# Exercise 2\u001b[0m\u001b[0;34m\u001b[0m\u001b[0;34m\u001b[0m\u001b[0;34m\u001b[0m\u001b[0m\n\u001b[1;32m      2\u001b[0m \u001b[0;32mdef\u001b[0m \u001b[0mF\u001b[0m\u001b[0;34m(\u001b[0m\u001b[0mrow_s\u001b[0m\u001b[0;34m,\u001b[0m \u001b[0mrow_t\u001b[0m\u001b[0;34m,\u001b[0m \u001b[0mTemp\u001b[0m\u001b[0;34m)\u001b[0m\u001b[0;34m:\u001b[0m\u001b[0;34m\u001b[0m\u001b[0;34m\u001b[0m\u001b[0m\n\u001b[0;32m----> 3\u001b[0;31m     \u001b[0;32mreturn\u001b[0m \u001b[0mnp\u001b[0m\u001b[0;34m.\u001b[0m\u001b[0mexp\u001b[0m\u001b[0;34m(\u001b[0m\u001b[0;36m1\u001b[0m\u001b[0;34m/\u001b[0m\u001b[0mTemp\u001b[0m \u001b[0;34m*\u001b[0m \u001b[0mrow_s\u001b[0m\u001b[0;34m@\u001b[0m\u001b[0mrow_t\u001b[0m\u001b[0;34m.\u001b[0m\u001b[0mT\u001b[0m\u001b[0;34m)\u001b[0m\u001b[0;34m\u001b[0m\u001b[0;34m\u001b[0m\u001b[0m\n\u001b[0m",
      "\u001b[0;31mKeyboardInterrupt\u001b[0m: "
     ]
    }
   ],
   "source": [
    "# Exercise 7\n",
    "\n",
    "fig, axs = plt.subplots(nrows=3, ncols= 10)\n",
    "for i, Temp in enumerate([1,1.5,2]):\n",
    "    exact_samples = sample_n(10, 8, Temp)\n",
    "    for j, sample in enumerate(exact_samples):\n",
    "        axs[i,j].imshow(sample, interpolation='None')\n",
    "        axs[i,j].axis('off')\n",
    "        if j==0:\n",
    "            axs[i,j].set_title('temp={}'.format(Temp))\n",
    "\n",
    "\n"
   ]
  },
  {
   "cell_type": "code",
   "execution_count": 82,
   "metadata": {},
   "outputs": [
    {
     "output_type": "error",
     "ename": "TypeError",
     "evalue": "'int' object is not callable",
     "traceback": [
      "\u001b[0;31m---------------------------------------------------------------------------\u001b[0m",
      "\u001b[0;31mTypeError\u001b[0m                                 Traceback (most recent call last)",
      "\u001b[0;32m<ipython-input-82-721ade31d1b8>\u001b[0m in \u001b[0;36m<module>\u001b[0;34m\u001b[0m\n\u001b[1;32m      4\u001b[0m \u001b[0mn\u001b[0m \u001b[0;34m=\u001b[0m \u001b[0;36m10000\u001b[0m\u001b[0;34m\u001b[0m\u001b[0;34m\u001b[0m\u001b[0m\n\u001b[1;32m      5\u001b[0m \u001b[0;32mfor\u001b[0m \u001b[0mTemp\u001b[0m \u001b[0;32min\u001b[0m \u001b[0;34m[\u001b[0m\u001b[0;36m1\u001b[0m\u001b[0;34m,\u001b[0m\u001b[0;36m1.5\u001b[0m\u001b[0;34m,\u001b[0m\u001b[0;36m2\u001b[0m\u001b[0;34m]\u001b[0m\u001b[0;34m:\u001b[0m\u001b[0;34m\u001b[0m\u001b[0;34m\u001b[0m\u001b[0m\n\u001b[0;32m----> 6\u001b[0;31m     \u001b[0mTs\u001b[0m \u001b[0;34m=\u001b[0m \u001b[0mget_Ts\u001b[0m\u001b[0;34m(\u001b[0m\u001b[0msize\u001b[0m\u001b[0;34m,\u001b[0m \u001b[0mTemp\u001b[0m\u001b[0;34m)\u001b[0m\u001b[0;34m\u001b[0m\u001b[0;34m\u001b[0m\u001b[0m\n\u001b[0m\u001b[1;32m      7\u001b[0m     \u001b[0mps\u001b[0m \u001b[0;34m=\u001b[0m \u001b[0mget_ps\u001b[0m\u001b[0;34m(\u001b[0m\u001b[0msize\u001b[0m\u001b[0;34m,\u001b[0m \u001b[0mTemp\u001b[0m\u001b[0;34m,\u001b[0m \u001b[0mTs\u001b[0m\u001b[0;34m)\u001b[0m\u001b[0;34m\u001b[0m\u001b[0;34m\u001b[0m\u001b[0m\n\u001b[1;32m      8\u001b[0m     \u001b[0mps_table\u001b[0m \u001b[0;34m=\u001b[0m \u001b[0mget_ps_table\u001b[0m\u001b[0;34m(\u001b[0m\u001b[0msize\u001b[0m\u001b[0;34m,\u001b[0m\u001b[0mTemp\u001b[0m\u001b[0;34m,\u001b[0m \u001b[0mps\u001b[0m\u001b[0;34m)\u001b[0m\u001b[0;34m\u001b[0m\u001b[0;34m\u001b[0m\u001b[0m\n",
      "\u001b[0;32m<ipython-input-7-c8901b891f66>\u001b[0m in \u001b[0;36mget_Ts\u001b[0;34m(size, Temp)\u001b[0m\n\u001b[1;32m      2\u001b[0m     \u001b[0mTs\u001b[0m \u001b[0;34m=\u001b[0m \u001b[0;34m[\u001b[0m\u001b[0;34m]\u001b[0m\u001b[0;34m\u001b[0m\u001b[0;34m\u001b[0m\u001b[0m\n\u001b[1;32m      3\u001b[0m     \u001b[0my_range\u001b[0m \u001b[0;34m=\u001b[0m \u001b[0mrange\u001b[0m\u001b[0;34m(\u001b[0m\u001b[0;36m2\u001b[0m\u001b[0;34m**\u001b[0m\u001b[0msize\u001b[0m\u001b[0;34m)\u001b[0m\u001b[0;34m\u001b[0m\u001b[0;34m\u001b[0m\u001b[0m\n\u001b[0;32m----> 4\u001b[0;31m     T1 = [sum([G(y2row(y1,size),Temp)*F(y2row(y1,size),y2row(y2,size),Temp) \\\n\u001b[0m\u001b[1;32m      5\u001b[0m                         for y1 in y_range]) \\\n\u001b[1;32m      6\u001b[0m                             for y2 in y_range]\n",
      "\u001b[0;32m<ipython-input-7-c8901b891f66>\u001b[0m in \u001b[0;36m<listcomp>\u001b[0;34m(.0)\u001b[0m\n\u001b[1;32m      2\u001b[0m     \u001b[0mTs\u001b[0m \u001b[0;34m=\u001b[0m \u001b[0;34m[\u001b[0m\u001b[0;34m]\u001b[0m\u001b[0;34m\u001b[0m\u001b[0;34m\u001b[0m\u001b[0m\n\u001b[1;32m      3\u001b[0m     \u001b[0my_range\u001b[0m \u001b[0;34m=\u001b[0m \u001b[0mrange\u001b[0m\u001b[0;34m(\u001b[0m\u001b[0;36m2\u001b[0m\u001b[0;34m**\u001b[0m\u001b[0msize\u001b[0m\u001b[0;34m)\u001b[0m\u001b[0;34m\u001b[0m\u001b[0;34m\u001b[0m\u001b[0m\n\u001b[0;32m----> 4\u001b[0;31m     T1 = [sum([G(y2row(y1,size),Temp)*F(y2row(y1,size),y2row(y2,size),Temp) \\\n\u001b[0m\u001b[1;32m      5\u001b[0m                         for y1 in y_range]) \\\n\u001b[1;32m      6\u001b[0m                             for y2 in y_range]\n",
      "\u001b[0;31mTypeError\u001b[0m: 'int' object is not callable"
     ]
    }
   ],
   "source": [
    "# Exercise 8\n",
    "import time\n",
    "size = 8\n",
    "n = 10000\n",
    "for Temp in [1,1.5,2]:\n",
    "    Ts = get_Ts(size, Temp)\n",
    "    ps = get_ps(size, Temp, Ts)\n",
    "    ps_table = get_ps_table(size,Temp, ps)\n",
    "    Sum_1122 = 0\n",
    "    Sum_1188 = 0\n",
    "    for _ in range(n):\n",
    "        s = single_sample(size,Temp, Ts, ps_table)\n",
    "        Sum_1122 += s[0,0]*s[1,1] \n",
    "        Sum_1188 += s[0,0]*s[7,7] \n",
    "    print(\"Temp:{}, E_X({},{})X({},{}): {}\".format(Temp,1,1,2,2,Sum_1122/n))\n",
    "    print(\"Temp:{} , E_X({},{})X({},{}): {}\".format(Temp,1,1,8,8,Sum_1188/n))\n"
   ]
  },
  {
   "cell_type": "code",
   "execution_count": null,
   "metadata": {},
   "outputs": [],
   "source": [
    "\n",
    "# Using the results of the Computer Exercise above, \n",
    "# explain the relative values of Eb, in terms of the spatial distance of the lattice sites and in terms\n",
    "# of the temperature."
   ]
  },
  {
   "cell_type": "code",
   "execution_count": null,
   "metadata": {},
   "outputs": [],
   "source": [
    "def pad_with(vector, pad_width, iaxis, kwargs):\n",
    "    pad_value = kwargs.get('padder', 0)\n",
    "    vector[:pad_width[0]] = pad_value\n",
    "    vector[-pad_width[1]:] = pad_value"
   ]
  },
  {
   "cell_type": "code",
   "execution_count": 14,
   "metadata": {},
   "outputs": [],
   "source": [
    "def random_lattice(size):\n",
    "    return np.random.randint(low=0,high=2,size=(size,size))*2-1"
   ]
  },
  {
   "cell_type": "code",
   "execution_count": 23,
   "metadata": {
    "tags": []
   },
   "outputs": [
    {
     "output_type": "stream",
     "name": "stdout",
     "text": [
      "Temp:1, E_X(1,1)X(2,2): 0.9242\n",
      "Temp:1 , E_X(1,1)X(8,8): 0.5484\n",
      "Temp:1.5, E_X(1,1)X(2,2): 0.7478\n",
      "Temp:1.5 , E_X(1,1)X(8,8): 0.3632\n",
      "Temp:2, E_X(1,1)X(2,2): 0.4954\n",
      "Temp:2 , E_X(1,1)X(8,8): 0.0984\n"
     ]
    }
   ],
   "source": [
    "# Exercise 9\n",
    "size = 8 \n",
    "n = 10000\n",
    "n_shifts = 25\n",
    "neigbs_indecis = np.array([\n",
    "    np.array([1,0,-1,0]),\n",
    "    np.array([0,1,0,-1])\n",
    "])\n",
    "sample = np.pad(random_lattice(size),1, pad_with)\n",
    "# Independent Samples\n",
    "for Temp in [1,1.5,2]:\n",
    "    Sum_1122 = 0\n",
    "    Sum_1188 = 0\n",
    "    for _ in range(n):\n",
    "        smpl = np.pad(random_lattice(size),1, pad_with)\n",
    "        for _ in range(n_shifts):\n",
    "            for i in range(1,size+1):\n",
    "                for j in range(1,size+1):\n",
    "                    neibs = np.array(smpl[(neigbs_indecis[0]+i, neigbs_indecis[1]+j)])\n",
    "                    in_exp = np.sum(neibs) / Temp\n",
    "                    plus_ratio = np.exp(in_exp)\n",
    "                    minus_ratio = np.exp(-in_exp)\n",
    "                    p = [plus_ratio, minus_ratio] / (plus_ratio + minus_ratio)\n",
    "                    smpl[i,j] = np.random.choice([1,-1], p=p)\n",
    "        Sum_1122 += smpl[1,1]*smpl[2,2]\n",
    "        Sum_1188 += smpl[1,1]*smpl[size,size]\n",
    "    print(\"Temp:{}, E_X({},{})X({},{}): {}\".format(Temp,1,1,2,2,Sum_1122/n))\n",
    "    print(\"Temp:{} , E_X({},{})X({},{}): {}\".format(Temp,1,1,8,8,Sum_1188/n))\n"
   ]
  },
  {
   "cell_type": "code",
   "execution_count": 32,
   "metadata": {},
   "outputs": [
    {
     "output_type": "stream",
     "name": "stdout",
     "text": [
      "Temp:1, E_X(1,1)X(2,2): 0.9489898989898989\n",
      "Temp:1 , E_X(1,1)X(8,8): 0.9035353535353535\n",
      "Temp:1.5, E_X(1,1)X(2,2): 0.7706060606060606\n",
      "Temp:1.5 , E_X(1,1)X(8,8): 0.5596969696969697\n",
      "Temp:2, E_X(1,1)X(2,2): 0.5233333333333333\n",
      "Temp:2 , E_X(1,1)X(8,8): 0.12070707070707071\n"
     ]
    }
   ],
   "source": [
    "# Exercise 9\n",
    "size = 8 \n",
    "n_burnouts = 100\n",
    "n_shifts = 250000\n",
    "for Temp in [1,1.5,2]:\n",
    "    Sum_1122 = 0\n",
    "    Sum_1188 = 0 \n",
    "    smpl = np.pad(random_lattice(size),1, pad_with)\n",
    "    for k in range(n_shifts):\n",
    "        for i in range(1,size+1):\n",
    "            for j in range(1,size+1):\n",
    "                neibs = np.array(smpl[(neigbs_indecis[0]+i, neigbs_indecis[1]+j)])\n",
    "                in_exp = np.sum(neibs) / Temp\n",
    "                plus_ratio = np.exp(in_exp)\n",
    "                minus_ratio = np.exp(-in_exp)\n",
    "                p = [plus_ratio, minus_ratio] / (plus_ratio + minus_ratio)\n",
    "                smpl[i,j] = np.random.choice([1,-1], p=p)\n",
    "        if k > n_burnouts: \n",
    "            Sum_1122 += smpl[1,1]*smpl[2,2]\n",
    "            Sum_1188 += smpl[1,1]*smpl[size,size]\n",
    "    print(\"Temp:{}, E_X({},{})X({},{}): {}\".format(Temp,1,1,2,2,Sum_1122/(n_shifts-n_burnouts)))\n",
    "    print(\"Temp:{} , E_X({},{})X({},{}): {}\".format(Temp,1,1,8,8,Sum_1188/(n_shifts-n_burnouts)))"
   ]
  },
  {
   "cell_type": "code",
   "execution_count": 53,
   "metadata": {},
   "outputs": [],
   "source": [
    "def gibbs_sample(size, Temp, n_sweeps):\n",
    "    smpl = np.pad(random_lattice(size),1, pad_with)\n",
    "    for k in range(n_sweeps):\n",
    "        for i in range(1,size+1):\n",
    "            for j in range(1,size+1):\n",
    "                neibs = np.array(smpl[(neigbs_indecis[0]+i, neigbs_indecis[1]+j)])\n",
    "                in_exp = np.sum(neibs) / Temp\n",
    "                plus_ratio = np.exp(in_exp)\n",
    "                minus_ratio = np.exp(-in_exp)\n",
    "                p = [plus_ratio, minus_ratio] / (plus_ratio + minus_ratio)\n",
    "                smpl[i,j] = np.random.choice([1,-1], p=p)\n",
    "    return smpl[1:-1,1:-1] # padding removed\n"
   ]
  },
  {
   "cell_type": "code",
   "execution_count": 65,
   "metadata": {},
   "outputs": [],
   "source": [
    "def posterior_gibbs_sample(size, Temp, n_sweeps, y, sigma):\n",
    "    smpl = np.pad(random_lattice(size),1, pad_with)\n",
    "    y_padded = np.pad(y,1, pad_with)\n",
    "    for k in range(n_sweeps):\n",
    "        for i in range(1,size+1):\n",
    "            for j in range(1,size+1):\n",
    "                neibs = np.array(smpl[(neigbs_indecis[0]+i, neigbs_indecis[1]+j)])\n",
    "                plus_ratio = np.exp(np.sum(neibs) / Temp \\\n",
    "                               - np.square(y_padded[i,j] + 1) / (2*(sigma**2))) \n",
    "                minus_ratio = np.exp(-np.sum(neibs) / Temp \\\n",
    "                                - np.square(y_padded[i,j] -1) / (2*(sigma**2))) \n",
    "                p = [plus_ratio, minus_ratio] / (plus_ratio + minus_ratio)\n",
    "                smpl[i,j] = np.random.choice([1,-1], p=p)\n",
    "    return smpl[1:-1,1:-1] # padding removed"
   ]
  },
  {
   "cell_type": "code",
   "execution_count": 69,
   "metadata": {},
   "outputs": [],
   "source": [
    "def max_posterior_gibbs(size, Temp, n_sweeps, y, sigma):\n",
    "    smpl = np.pad(random_lattice(size),1, pad_with)\n",
    "    y_padded = np.pad(y,1, pad_with)\n",
    "    for k in range(n_sweeps):\n",
    "        for i in range(1,size+1):\n",
    "            for j in range(1,size+1):\n",
    "                neibs = np.array(smpl[(neigbs_indecis[0]+i, neigbs_indecis[1]+j)])\n",
    "                plus_ratio = np.exp(np.sum(neibs) / Temp \\\n",
    "                               - np.square(y_padded[i,j] + 1) / (2*(sigma**2))) \n",
    "                minus_ratio = np.exp(-np.sum(neibs) / Temp \\\n",
    "                                - np.square(y_padded[i,j] -1) / (2*(sigma**2))) \n",
    "                smpl[i,j] = np.argmax([minus_ratio, plus_ratio])*2 -1\n",
    "    return smpl[1:-1,1:-1] # padding removed"
   ]
  },
  {
   "cell_type": "code",
   "execution_count": 75,
   "metadata": {},
   "outputs": [
    {
     "output_type": "display_data",
     "data": {
      "text/plain": "<Figure size 432x288 with 15 Axes>",
      "image/svg+xml": "<?xml version=\"1.0\" encoding=\"utf-8\" standalone=\"no\"?>\n<!DOCTYPE svg PUBLIC \"-//W3C//DTD SVG 1.1//EN\"\n  \"http://www.w3.org/Graphics/SVG/1.1/DTD/svg11.dtd\">\n<svg height=\"257.525598pt\" version=\"1.1\" viewBox=\"0 0 349.2 257.525598\" width=\"349.2pt\" xmlns=\"http://www.w3.org/2000/svg\" xmlns:xlink=\"http://www.w3.org/1999/xlink\">\n <metadata>\n  <rdf:RDF xmlns:cc=\"http://creativecommons.org/ns#\" xmlns:dc=\"http://purl.org/dc/elements/1.1/\" xmlns:rdf=\"http://www.w3.org/1999/02/22-rdf-syntax-ns#\">\n   <cc:Work>\n    <dc:type rdf:resource=\"http://purl.org/dc/dcmitype/StillImage\"/>\n    <dc:date>2021-04-12T04:02:07.631713</dc:date>\n    <dc:format>image/svg+xml</dc:format>\n    <dc:creator>\n     <cc:Agent>\n      <dc:title>Matplotlib v3.4.1, https://matplotlib.org/</dc:title>\n     </cc:Agent>\n    </dc:creator>\n   </cc:Work>\n  </rdf:RDF>\n </metadata>\n <defs>\n  <style type=\"text/css\">*{stroke-linecap:butt;stroke-linejoin:round;}</style>\n </defs>\n <g id=\"figure_1\">\n  <g id=\"patch_1\">\n   <path d=\"M 0 257.525598 \nL 349.2 257.525598 \nL 349.2 0 \nL 0 0 \nz\n\" style=\"fill:none;\"/>\n  </g>\n  <g id=\"axes_1\">\n   <g clip-path=\"url(#paf0c957657)\">\n    <image height=\"10\" id=\"imagec85ad00515\" style=\"image-rendering:crisp-edges;image-rendering:pixelated\" transform=\"matrix(5.8 0 0 5.8 7.2 38.83854)\" width=\"10\" xlink:href=\"data:image/png;base64,\niVBORw0KGgoAAAANSUhEUgAAAAoAAAAKCAYAAACNMs+9AAAAJElEQVR4nGN0YQz5z0AEYCJG0UAr3PnsAnEK3aUMqGw11RUCAOPTBKyjPJjlAAAAAElFTkSuQmCC\"/>\n   </g>\n   <g id=\"text_1\">\n    <!-- x -->\n    <g transform=\"translate(32.510819 33.114402)scale(0.12 -0.12)\">\n     <defs>\n      <path d=\"M 3513 3500 \nL 2247 1797 \nL 3578 0 \nL 2900 0 \nL 1881 1375 \nL 863 0 \nL 184 0 \nL 1544 1831 \nL 300 3500 \nL 978 3500 \nL 1906 2253 \nL 2834 3500 \nL 3513 3500 \nz\n\" id=\"DejaVuSans-78\" transform=\"scale(0.015625)\"/>\n     </defs>\n     <use xlink:href=\"#DejaVuSans-78\"/>\n    </g>\n   </g>\n  </g>\n  <g id=\"axes_2\">\n   <g clip-path=\"url(#pd05542131d)\">\n    <image height=\"10\" id=\"image91920d8491\" style=\"image-rendering:crisp-edges;image-rendering:pixelated\" transform=\"matrix(5.8 0 0 5.8 76.468966 38.83854)\" width=\"10\" xlink:href=\"data:image/png;base64,\niVBORw0KGgoAAAANSUhEUgAAAAoAAAAKCAYAAACNMs+9AAABhklEQVR4nAXBT0hTcQDA8e/7vf15/nntj241E/HNtyAEhSGBYm0UlPQHunjy3LE6BB6iS+sYZCIqomcxDQLxIoYIIqOILtWqLTc0WOoL8bk/z7Xtrc9H6lt91oh1/mJIzfBifgzPjQMGAvu8Dn0iXS1xa/MRN3tTSJHEq4az7wSr7MauCvw7LipeCSX2l4f6JrO5GMbXII5qj4X93YOt2miX/5AdDCIrNXpUk5lsHCPdzrvRCYQs21R9da5EM1gLHYS7jgi9dfMtGUZx1GjdE2yXI4iONpM3I9N83O3mSWIRAH08hWcXmAhQv2oylx5GnJ65eTD5GGG4eJ66w+H7TgBONUhMz/PvxzlCagFJX0404lqG3yUfZkXB+HyeutJArkhINtwd+cBWXkd4Wi22chHKLy9SXL+A9jSJsyCQKxL3byfZK/vRvMc4jLyXJp+F0e+kZdggFxxE1gv41RIrX6KIIxcuU+BQA0XkDR8t9w44LjYTvfaT/alLnIRVuuJ51q4vka3Bf5zZjrTAfDPPAAAAAElFTkSuQmCC\"/>\n   </g>\n   <g id=\"text_2\">\n    <!-- y -->\n    <g transform=\"translate(101.779784 33.114402)scale(0.12 -0.12)\">\n     <defs>\n      <path d=\"M 2059 -325 \nQ 1816 -950 1584 -1140 \nQ 1353 -1331 966 -1331 \nL 506 -1331 \nL 506 -850 \nL 844 -850 \nQ 1081 -850 1212 -737 \nQ 1344 -625 1503 -206 \nL 1606 56 \nL 191 3500 \nL 800 3500 \nL 1894 763 \nL 2988 3500 \nL 3597 3500 \nL 2059 -325 \nz\n\" id=\"DejaVuSans-79\" transform=\"scale(0.015625)\"/>\n     </defs>\n     <use xlink:href=\"#DejaVuSans-79\"/>\n    </g>\n   </g>\n  </g>\n  <g id=\"axes_3\">\n   <g clip-path=\"url(#pb63f32ce57)\">\n    <image height=\"10\" id=\"image4c21eab960\" style=\"image-rendering:crisp-edges;image-rendering:pixelated\" transform=\"matrix(5.8 0 0 5.8 145.737931 38.83854)\" width=\"10\" xlink:href=\"data:image/png;base64,\niVBORw0KGgoAAAANSUhEUgAAAAoAAAAKCAYAAACNMs+9AAAAO0lEQVR4nGP8+1zlv7uUAQMDAwPDzmcXGGAAJgYDLOgKcAEmXBLomhn/Plf5T8g0dykD4hTitXooKgQAhlwSKTmJbjQAAAAASUVORK5CYII=\"/>\n   </g>\n   <g id=\"text_3\">\n    <!-- posterior -->\n    <g transform=\"translate(147.67875 33.114402)scale(0.12 -0.12)\">\n     <defs>\n      <path d=\"M 1159 525 \nL 1159 -1331 \nL 581 -1331 \nL 581 3500 \nL 1159 3500 \nL 1159 2969 \nQ 1341 3281 1617 3432 \nQ 1894 3584 2278 3584 \nQ 2916 3584 3314 3078 \nQ 3713 2572 3713 1747 \nQ 3713 922 3314 415 \nQ 2916 -91 2278 -91 \nQ 1894 -91 1617 61 \nQ 1341 213 1159 525 \nz\nM 3116 1747 \nQ 3116 2381 2855 2742 \nQ 2594 3103 2138 3103 \nQ 1681 3103 1420 2742 \nQ 1159 2381 1159 1747 \nQ 1159 1113 1420 752 \nQ 1681 391 2138 391 \nQ 2594 391 2855 752 \nQ 3116 1113 3116 1747 \nz\n\" id=\"DejaVuSans-70\" transform=\"scale(0.015625)\"/>\n      <path d=\"M 1959 3097 \nQ 1497 3097 1228 2736 \nQ 959 2375 959 1747 \nQ 959 1119 1226 758 \nQ 1494 397 1959 397 \nQ 2419 397 2687 759 \nQ 2956 1122 2956 1747 \nQ 2956 2369 2687 2733 \nQ 2419 3097 1959 3097 \nz\nM 1959 3584 \nQ 2709 3584 3137 3096 \nQ 3566 2609 3566 1747 \nQ 3566 888 3137 398 \nQ 2709 -91 1959 -91 \nQ 1206 -91 779 398 \nQ 353 888 353 1747 \nQ 353 2609 779 3096 \nQ 1206 3584 1959 3584 \nz\n\" id=\"DejaVuSans-6f\" transform=\"scale(0.015625)\"/>\n      <path d=\"M 2834 3397 \nL 2834 2853 \nQ 2591 2978 2328 3040 \nQ 2066 3103 1784 3103 \nQ 1356 3103 1142 2972 \nQ 928 2841 928 2578 \nQ 928 2378 1081 2264 \nQ 1234 2150 1697 2047 \nL 1894 2003 \nQ 2506 1872 2764 1633 \nQ 3022 1394 3022 966 \nQ 3022 478 2636 193 \nQ 2250 -91 1575 -91 \nQ 1294 -91 989 -36 \nQ 684 19 347 128 \nL 347 722 \nQ 666 556 975 473 \nQ 1284 391 1588 391 \nQ 1994 391 2212 530 \nQ 2431 669 2431 922 \nQ 2431 1156 2273 1281 \nQ 2116 1406 1581 1522 \nL 1381 1569 \nQ 847 1681 609 1914 \nQ 372 2147 372 2553 \nQ 372 3047 722 3315 \nQ 1072 3584 1716 3584 \nQ 2034 3584 2315 3537 \nQ 2597 3491 2834 3397 \nz\n\" id=\"DejaVuSans-73\" transform=\"scale(0.015625)\"/>\n      <path d=\"M 1172 4494 \nL 1172 3500 \nL 2356 3500 \nL 2356 3053 \nL 1172 3053 \nL 1172 1153 \nQ 1172 725 1289 603 \nQ 1406 481 1766 481 \nL 2356 481 \nL 2356 0 \nL 1766 0 \nQ 1100 0 847 248 \nQ 594 497 594 1153 \nL 594 3053 \nL 172 3053 \nL 172 3500 \nL 594 3500 \nL 594 4494 \nL 1172 4494 \nz\n\" id=\"DejaVuSans-74\" transform=\"scale(0.015625)\"/>\n      <path d=\"M 3597 1894 \nL 3597 1613 \nL 953 1613 \nQ 991 1019 1311 708 \nQ 1631 397 2203 397 \nQ 2534 397 2845 478 \nQ 3156 559 3463 722 \nL 3463 178 \nQ 3153 47 2828 -22 \nQ 2503 -91 2169 -91 \nQ 1331 -91 842 396 \nQ 353 884 353 1716 \nQ 353 2575 817 3079 \nQ 1281 3584 2069 3584 \nQ 2775 3584 3186 3129 \nQ 3597 2675 3597 1894 \nz\nM 3022 2063 \nQ 3016 2534 2758 2815 \nQ 2500 3097 2075 3097 \nQ 1594 3097 1305 2825 \nQ 1016 2553 972 2059 \nL 3022 2063 \nz\n\" id=\"DejaVuSans-65\" transform=\"scale(0.015625)\"/>\n      <path d=\"M 2631 2963 \nQ 2534 3019 2420 3045 \nQ 2306 3072 2169 3072 \nQ 1681 3072 1420 2755 \nQ 1159 2438 1159 1844 \nL 1159 0 \nL 581 0 \nL 581 3500 \nL 1159 3500 \nL 1159 2956 \nQ 1341 3275 1631 3429 \nQ 1922 3584 2338 3584 \nQ 2397 3584 2469 3576 \nQ 2541 3569 2628 3553 \nL 2631 2963 \nz\n\" id=\"DejaVuSans-72\" transform=\"scale(0.015625)\"/>\n      <path d=\"M 603 3500 \nL 1178 3500 \nL 1178 0 \nL 603 0 \nL 603 3500 \nz\nM 603 4863 \nL 1178 4863 \nL 1178 4134 \nL 603 4134 \nL 603 4863 \nz\n\" id=\"DejaVuSans-69\" transform=\"scale(0.015625)\"/>\n     </defs>\n     <use xlink:href=\"#DejaVuSans-70\"/>\n     <use x=\"63.476562\" xlink:href=\"#DejaVuSans-6f\"/>\n     <use x=\"124.658203\" xlink:href=\"#DejaVuSans-73\"/>\n     <use x=\"176.757812\" xlink:href=\"#DejaVuSans-74\"/>\n     <use x=\"215.966797\" xlink:href=\"#DejaVuSans-65\"/>\n     <use x=\"277.490234\" xlink:href=\"#DejaVuSans-72\"/>\n     <use x=\"318.603516\" xlink:href=\"#DejaVuSans-69\"/>\n     <use x=\"346.386719\" xlink:href=\"#DejaVuSans-6f\"/>\n     <use x=\"407.568359\" xlink:href=\"#DejaVuSans-72\"/>\n    </g>\n   </g>\n  </g>\n  <g id=\"axes_4\">\n   <g clip-path=\"url(#p1e01760283)\">\n    <image height=\"10\" id=\"image7840e03cf9\" style=\"image-rendering:crisp-edges;image-rendering:pixelated\" transform=\"matrix(5.8 0 0 5.8 215.006897 38.83854)\" width=\"10\" xlink:href=\"data:image/png;base64,\niVBORw0KGgoAAAANSUhEUgAAAAoAAAAKCAYAAACNMs+9AAAAPUlEQVR4nGP8+1zlPwMW4C5lgMJnwqaIgYGBYeezCyh8RlwmogMWdCuwmYbXagwTCZlEsolEe4ZoE4lWCABBCRGai7rb8gAAAABJRU5ErkJggg==\"/>\n   </g>\n   <g id=\"text_4\">\n    <!-- post_max -->\n    <g transform=\"translate(214.838341 33.114402)scale(0.12 -0.12)\">\n     <defs>\n      <path d=\"M 3263 -1063 \nL 3263 -1509 \nL -63 -1509 \nL -63 -1063 \nL 3263 -1063 \nz\n\" id=\"DejaVuSans-5f\" transform=\"scale(0.015625)\"/>\n      <path d=\"M 3328 2828 \nQ 3544 3216 3844 3400 \nQ 4144 3584 4550 3584 \nQ 5097 3584 5394 3201 \nQ 5691 2819 5691 2113 \nL 5691 0 \nL 5113 0 \nL 5113 2094 \nQ 5113 2597 4934 2840 \nQ 4756 3084 4391 3084 \nQ 3944 3084 3684 2787 \nQ 3425 2491 3425 1978 \nL 3425 0 \nL 2847 0 \nL 2847 2094 \nQ 2847 2600 2669 2842 \nQ 2491 3084 2119 3084 \nQ 1678 3084 1418 2786 \nQ 1159 2488 1159 1978 \nL 1159 0 \nL 581 0 \nL 581 3500 \nL 1159 3500 \nL 1159 2956 \nQ 1356 3278 1631 3431 \nQ 1906 3584 2284 3584 \nQ 2666 3584 2933 3390 \nQ 3200 3197 3328 2828 \nz\n\" id=\"DejaVuSans-6d\" transform=\"scale(0.015625)\"/>\n      <path d=\"M 2194 1759 \nQ 1497 1759 1228 1600 \nQ 959 1441 959 1056 \nQ 959 750 1161 570 \nQ 1363 391 1709 391 \nQ 2188 391 2477 730 \nQ 2766 1069 2766 1631 \nL 2766 1759 \nL 2194 1759 \nz\nM 3341 1997 \nL 3341 0 \nL 2766 0 \nL 2766 531 \nQ 2569 213 2275 61 \nQ 1981 -91 1556 -91 \nQ 1019 -91 701 211 \nQ 384 513 384 1019 \nQ 384 1609 779 1909 \nQ 1175 2209 1959 2209 \nL 2766 2209 \nL 2766 2266 \nQ 2766 2663 2505 2880 \nQ 2244 3097 1772 3097 \nQ 1472 3097 1187 3025 \nQ 903 2953 641 2809 \nL 641 3341 \nQ 956 3463 1253 3523 \nQ 1550 3584 1831 3584 \nQ 2591 3584 2966 3190 \nQ 3341 2797 3341 1997 \nz\n\" id=\"DejaVuSans-61\" transform=\"scale(0.015625)\"/>\n     </defs>\n     <use xlink:href=\"#DejaVuSans-70\"/>\n     <use x=\"63.476562\" xlink:href=\"#DejaVuSans-6f\"/>\n     <use x=\"124.658203\" xlink:href=\"#DejaVuSans-73\"/>\n     <use x=\"176.757812\" xlink:href=\"#DejaVuSans-74\"/>\n     <use x=\"215.966797\" xlink:href=\"#DejaVuSans-5f\"/>\n     <use x=\"265.966797\" xlink:href=\"#DejaVuSans-6d\"/>\n     <use x=\"363.378906\" xlink:href=\"#DejaVuSans-61\"/>\n     <use x=\"424.658203\" xlink:href=\"#DejaVuSans-78\"/>\n    </g>\n   </g>\n  </g>\n  <g id=\"axes_5\">\n   <g clip-path=\"url(#pf57f92943e)\">\n    <image height=\"10\" id=\"image73661a5694\" style=\"image-rendering:crisp-edges;image-rendering:pixelated\" transform=\"matrix(5.8 0 0 5.8 284.275862 38.83854)\" width=\"10\" xlink:href=\"data:image/png;base64,\niVBORw0KGgoAAAANSUhEUgAAAAoAAAAKCAYAAACNMs+9AAAAbElEQVR4nIVPwQnAMAg8Q6fIuwNkiEAWyLJu4RR2imJfpmmI9ECQu+P0qFI3VgEAtFzgu8M5qtQNAVgFLRcAQFqFnYlVXqML0Rt0X6ftBE9zpJbLIOd9fmWUmc9FhX5bO47ItF74tF5TWGXMA54xRRODE2VGAAAAAElFTkSuQmCC\"/>\n   </g>\n   <g id=\"text_5\">\n    <!-- max_like -->\n    <g transform=\"translate(286.782931 33.114402)scale(0.12 -0.12)\">\n     <defs>\n      <path d=\"M 603 4863 \nL 1178 4863 \nL 1178 0 \nL 603 0 \nL 603 4863 \nz\n\" id=\"DejaVuSans-6c\" transform=\"scale(0.015625)\"/>\n      <path d=\"M 581 4863 \nL 1159 4863 \nL 1159 1991 \nL 2875 3500 \nL 3609 3500 \nL 1753 1863 \nL 3688 0 \nL 2938 0 \nL 1159 1709 \nL 1159 0 \nL 581 0 \nL 581 4863 \nz\n\" id=\"DejaVuSans-6b\" transform=\"scale(0.015625)\"/>\n     </defs>\n     <use xlink:href=\"#DejaVuSans-6d\"/>\n     <use x=\"97.412109\" xlink:href=\"#DejaVuSans-61\"/>\n     <use x=\"158.691406\" xlink:href=\"#DejaVuSans-78\"/>\n     <use x=\"217.871094\" xlink:href=\"#DejaVuSans-5f\"/>\n     <use x=\"267.871094\" xlink:href=\"#DejaVuSans-6c\"/>\n     <use x=\"295.654297\" xlink:href=\"#DejaVuSans-69\"/>\n     <use x=\"323.4375\" xlink:href=\"#DejaVuSans-6b\"/>\n     <use x=\"377.722656\" xlink:href=\"#DejaVuSans-65\"/>\n    </g>\n   </g>\n  </g>\n  <g id=\"axes_6\">\n   <g clip-path=\"url(#pe2f2b87b66)\">\n    <image height=\"10\" id=\"image77b4f6d96b\" style=\"image-rendering:crisp-edges;image-rendering:pixelated\" transform=\"matrix(5.8 0 0 5.8 7.2 115.582069)\" width=\"10\" xlink:href=\"data:image/png;base64,\niVBORw0KGgoAAAANSUhEUgAAAAoAAAAKCAYAAACNMs+9AAAAN0lEQVR4nGN0YQz5z0AEYCJGEUkKGf8+V/nPwMDA4C5lQJxCZIBNE/XdiFXhzmcXKDCRkG9hAAD/Uwvar9ugigAAAABJRU5ErkJggg==\"/>\n   </g>\n   <g id=\"text_6\">\n    <!-- x -->\n    <g transform=\"translate(32.510819 109.857931)scale(0.12 -0.12)\">\n     <use xlink:href=\"#DejaVuSans-78\"/>\n    </g>\n   </g>\n  </g>\n  <g id=\"axes_7\">\n   <g clip-path=\"url(#p9473480d7b)\">\n    <image height=\"10\" id=\"image5213499190\" style=\"image-rendering:crisp-edges;image-rendering:pixelated\" transform=\"matrix(5.8 0 0 5.8 76.468966 115.582069)\" width=\"10\" xlink:href=\"data:image/png;base64,\niVBORw0KGgoAAAANSUhEUgAAAAoAAAAKCAYAAACNMs+9AAABg0lEQVR4nAXBPUgbYQCA4fe+S5rCXUw8TUxCaKNU0XIiGdpBEVyKi2KLU6EFRRyKdhEcnDsU4qjdnFwsLYJDaac6KIpoRfEHKcHGn8SzhKhJIMYz+c7nUbreJJy7GpW64VNeGKfMb3TiuXSjZRwC2wX+jmogwXXeJ8GG8lIM6z5G9LLKdTN48g5Wtw+h3dLTnEREolfUb6mUwg7eAYtsh0p4rUS+SVBslIQCeVaX2xGmYTE0+YNnCzeYhkW4M0ND4gRHgPakwPVqCHdRQWTLOmP+cxrnUqRLfh6JKpsrbbT2JvHPe1FtiH5eR3k6M+0Y+wLP4H866i74MxtHe3dB8WuE2FCSw98tlBsqiEhLFturYBoWv/ZMxqe+c/IviGswy/ZhE/FXR/TEjxAl281t0OGlN4URLNCvnfHYKCO/BdCPXez+bCN5E0DEgxn8Zo65T69JPF/kw1kfUir43qcRFbBrJfnlEOLgSzu5nE7NSJqPO2+pSIFMabgmdHypClVdIlV4ANejkcbfWVqXAAAAAElFTkSuQmCC\"/>\n   </g>\n   <g id=\"text_7\">\n    <!-- y -->\n    <g transform=\"translate(101.779784 109.857931)scale(0.12 -0.12)\">\n     <use xlink:href=\"#DejaVuSans-79\"/>\n    </g>\n   </g>\n  </g>\n  <g id=\"axes_8\">\n   <g clip-path=\"url(#p6cf4ced0a9)\">\n    <image height=\"10\" id=\"image02bcae3240\" style=\"image-rendering:crisp-edges;image-rendering:pixelated\" transform=\"matrix(5.8 0 0 5.8 145.737931 115.582069)\" width=\"10\" xlink:href=\"data:image/png;base64,\niVBORw0KGgoAAAANSUhEUgAAAAoAAAAKCAYAAACNMs+9AAAASklEQVR4nGP8+1zlPwMRgIkYRQwMDAxM7lIGxClkYGBggCl2lzKAY5xW4zPZXcqABDcSo2jnswvEm8iy89kFFLfgVIiuCFkjMgAAZ4YPhQrPObYAAAAASUVORK5CYII=\"/>\n   </g>\n   <g id=\"text_8\">\n    <!-- posterior -->\n    <g transform=\"translate(147.67875 109.857931)scale(0.12 -0.12)\">\n     <use xlink:href=\"#DejaVuSans-70\"/>\n     <use x=\"63.476562\" xlink:href=\"#DejaVuSans-6f\"/>\n     <use x=\"124.658203\" xlink:href=\"#DejaVuSans-73\"/>\n     <use x=\"176.757812\" xlink:href=\"#DejaVuSans-74\"/>\n     <use x=\"215.966797\" xlink:href=\"#DejaVuSans-65\"/>\n     <use x=\"277.490234\" xlink:href=\"#DejaVuSans-72\"/>\n     <use x=\"318.603516\" xlink:href=\"#DejaVuSans-69\"/>\n     <use x=\"346.386719\" xlink:href=\"#DejaVuSans-6f\"/>\n     <use x=\"407.568359\" xlink:href=\"#DejaVuSans-72\"/>\n    </g>\n   </g>\n  </g>\n  <g id=\"axes_9\">\n   <g clip-path=\"url(#pa87df74a85)\">\n    <image height=\"10\" id=\"image5331270d18\" style=\"image-rendering:crisp-edges;image-rendering:pixelated\" transform=\"matrix(5.8 0 0 5.8 215.006897 115.582069)\" width=\"10\" xlink:href=\"data:image/png;base64,\niVBORw0KGgoAAAANSUhEUgAAAAoAAAAKCAYAAACNMs+9AAAAN0lEQVR4nGP8+1zlPwMRgIkYRQwMDAwshBS4SxlgKoQJYjURn+TOZxfgbKLdOBgVInuEgYGBAQDobgmyiNCL6AAAAABJRU5ErkJggg==\"/>\n   </g>\n   <g id=\"text_9\">\n    <!-- post_max -->\n    <g transform=\"translate(214.838341 109.857931)scale(0.12 -0.12)\">\n     <use xlink:href=\"#DejaVuSans-70\"/>\n     <use x=\"63.476562\" xlink:href=\"#DejaVuSans-6f\"/>\n     <use x=\"124.658203\" xlink:href=\"#DejaVuSans-73\"/>\n     <use x=\"176.757812\" xlink:href=\"#DejaVuSans-74\"/>\n     <use x=\"215.966797\" xlink:href=\"#DejaVuSans-5f\"/>\n     <use x=\"265.966797\" xlink:href=\"#DejaVuSans-6d\"/>\n     <use x=\"363.378906\" xlink:href=\"#DejaVuSans-61\"/>\n     <use x=\"424.658203\" xlink:href=\"#DejaVuSans-78\"/>\n    </g>\n   </g>\n  </g>\n  <g id=\"axes_10\">\n   <g clip-path=\"url(#pa68645479c)\">\n    <image height=\"10\" id=\"image86fc2be518\" style=\"image-rendering:crisp-edges;image-rendering:pixelated\" transform=\"matrix(5.8 0 0 5.8 284.275862 115.582069)\" width=\"10\" xlink:href=\"data:image/png;base64,\niVBORw0KGgoAAAANSUhEUgAAAAoAAAAKCAYAAACNMs+9AAAAcklEQVR4nH2Qyw0AIQhEB7JVeLYAizCxAZu1C6vQKgx7wuBndy588sIAFCkLAJRWAQDJBdz0aPIF6ADWxDZ3JRfAO1BanXVpdTrR6F5uEywEAJxcWBoWWlYZ3UukLH9xdC98u9DaHjseVlhfRpGy/AGqF13yTtklKDz6AAAAAElFTkSuQmCC\"/>\n   </g>\n   <g id=\"text_10\">\n    <!-- max_like -->\n    <g transform=\"translate(286.782931 109.857931)scale(0.12 -0.12)\">\n     <use xlink:href=\"#DejaVuSans-6d\"/>\n     <use x=\"97.412109\" xlink:href=\"#DejaVuSans-61\"/>\n     <use x=\"158.691406\" xlink:href=\"#DejaVuSans-78\"/>\n     <use x=\"217.871094\" xlink:href=\"#DejaVuSans-5f\"/>\n     <use x=\"267.871094\" xlink:href=\"#DejaVuSans-6c\"/>\n     <use x=\"295.654297\" xlink:href=\"#DejaVuSans-69\"/>\n     <use x=\"323.4375\" xlink:href=\"#DejaVuSans-6b\"/>\n     <use x=\"377.722656\" xlink:href=\"#DejaVuSans-65\"/>\n    </g>\n   </g>\n  </g>\n  <g id=\"axes_11\">\n   <g clip-path=\"url(#pfd4186edc4)\">\n    <image height=\"10\" id=\"imagef7e509f0ba\" style=\"image-rendering:crisp-edges;image-rendering:pixelated\" transform=\"matrix(5.8 0 0 5.8 7.2 192.325598)\" width=\"10\" xlink:href=\"data:image/png;base64,\niVBORw0KGgoAAAANSUhEUgAAAAoAAAAKCAYAAACNMs+9AAAAKElEQVR4nGN0YQz5z0AEYCJG0WBXuPPZBeIUuksZkGg1zGiCCok1EQBGewcbwypCQgAAAABJRU5ErkJggg==\"/>\n   </g>\n   <g id=\"text_11\">\n    <!-- x -->\n    <g transform=\"translate(32.510819 186.60146)scale(0.12 -0.12)\">\n     <use xlink:href=\"#DejaVuSans-78\"/>\n    </g>\n   </g>\n  </g>\n  <g id=\"axes_12\">\n   <g clip-path=\"url(#p5463009fb4)\">\n    <image height=\"10\" id=\"image2ef5f9483d\" style=\"image-rendering:crisp-edges;image-rendering:pixelated\" transform=\"matrix(5.8 0 0 5.8 76.468966 192.325598)\" width=\"10\" xlink:href=\"data:image/png;base64,\niVBORw0KGgoAAAANSUhEUgAAAAoAAAAKCAYAAACNMs+9AAABfUlEQVR4nAXBu09TUQDA4d89p7e9l1ITQbS1DNhUMMSEoTGyKEujTkQnhsbgUMNgYHAxDoaJBSMxcVAW+QccTVx8xBhR6GDCoyQGUgVCoNWKfd3eY+85fp819GjBeAMKgNRAmaNajL5Fl8PLYcI1MBJ6NxTCS3YI/bKxbE253k27FKM585fMjSLNpKHTBT/HJQJb41YsIjsOp5+55LKfaL/r4/PaINu55/i9mlOrAmv4wYJpxTVLN1+QX5nEXosS29OEbx9R+ZKgZ/SQ+cFXiA/Tj9GO5s6bKXLDBaQP/gkBgEp7jJ3Z5v7sPcTDg2tkM5t0JRq8fjrGrcmPHGcU7vUSctehWEsQ8g1Weu6JMRLiXwMOJhRSapzlbuopTawkkL5B+iCc3xZBxFBPhpAlF9UIIwI4f3Gfs2+rXM0X+JP1EI2MR3pkn1bS0P9ecbJgUxv12PnWz7mlH2xdMuh/Amti+a75/vIC1SuKSFQRdAT2ehTZhsABLx7Qsy74D1HVlICJIaJdAAAAAElFTkSuQmCC\"/>\n   </g>\n   <g id=\"text_12\">\n    <!-- y -->\n    <g transform=\"translate(101.779784 186.60146)scale(0.12 -0.12)\">\n     <use xlink:href=\"#DejaVuSans-79\"/>\n    </g>\n   </g>\n  </g>\n  <g id=\"axes_13\">\n   <g clip-path=\"url(#p16e2f2c255)\">\n    <image height=\"10\" id=\"imagea6eb048d5e\" style=\"image-rendering:crisp-edges;image-rendering:pixelated\" transform=\"matrix(5.8 0 0 5.8 145.737931 192.325598)\" width=\"10\" xlink:href=\"data:image/png;base64,\niVBORw0KGgoAAAANSUhEUgAAAAoAAAAKCAYAAACNMs+9AAAAMElEQVR4nGP8+1zlPwMRgIkYRZQpdJcywMrGULjz2QXsJiLrwqeJcQB9je5LXG4GAHFlDmUL2t4iAAAAAElFTkSuQmCC\"/>\n   </g>\n   <g id=\"text_13\">\n    <!-- posterior -->\n    <g transform=\"translate(147.67875 186.60146)scale(0.12 -0.12)\">\n     <use xlink:href=\"#DejaVuSans-70\"/>\n     <use x=\"63.476562\" xlink:href=\"#DejaVuSans-6f\"/>\n     <use x=\"124.658203\" xlink:href=\"#DejaVuSans-73\"/>\n     <use x=\"176.757812\" xlink:href=\"#DejaVuSans-74\"/>\n     <use x=\"215.966797\" xlink:href=\"#DejaVuSans-65\"/>\n     <use x=\"277.490234\" xlink:href=\"#DejaVuSans-72\"/>\n     <use x=\"318.603516\" xlink:href=\"#DejaVuSans-69\"/>\n     <use x=\"346.386719\" xlink:href=\"#DejaVuSans-6f\"/>\n     <use x=\"407.568359\" xlink:href=\"#DejaVuSans-72\"/>\n    </g>\n   </g>\n  </g>\n  <g id=\"axes_14\">\n   <g clip-path=\"url(#p9ff27f827a)\">\n    <image height=\"10\" id=\"image1c4d93d13e\" style=\"image-rendering:crisp-edges;image-rendering:pixelated\" transform=\"matrix(5.8 0 0 5.8 215.006897 192.325598)\" width=\"10\" xlink:href=\"data:image/png;base64,\niVBORw0KGgoAAAANSUhEUgAAAAoAAAAKCAYAAACNMs+9AAAARUlEQVR4nGP8+1zlPwMUuEsZMDAwMDDsfHaBAR0wYYhANcA04VWIbgMDAwMDCz6FyIoZkd2Iy7Sdzy7gVogO8LpxkCgEAPLBEW0LHoniAAAAAElFTkSuQmCC\"/>\n   </g>\n   <g id=\"text_14\">\n    <!-- post_max -->\n    <g transform=\"translate(214.838341 186.60146)scale(0.12 -0.12)\">\n     <use xlink:href=\"#DejaVuSans-70\"/>\n     <use x=\"63.476562\" xlink:href=\"#DejaVuSans-6f\"/>\n     <use x=\"124.658203\" xlink:href=\"#DejaVuSans-73\"/>\n     <use x=\"176.757812\" xlink:href=\"#DejaVuSans-74\"/>\n     <use x=\"215.966797\" xlink:href=\"#DejaVuSans-5f\"/>\n     <use x=\"265.966797\" xlink:href=\"#DejaVuSans-6d\"/>\n     <use x=\"363.378906\" xlink:href=\"#DejaVuSans-61\"/>\n     <use x=\"424.658203\" xlink:href=\"#DejaVuSans-78\"/>\n    </g>\n   </g>\n  </g>\n  <g id=\"axes_15\">\n   <g clip-path=\"url(#p2e6a8ac8f1)\">\n    <image height=\"10\" id=\"imageb89bd686db\" style=\"image-rendering:crisp-edges;image-rendering:pixelated\" transform=\"matrix(5.8 0 0 5.8 284.275862 192.325598)\" width=\"10\" xlink:href=\"data:image/png;base64,\niVBORw0KGgoAAAANSUhEUgAAAAoAAAAKCAYAAACNMs+9AAAAZUlEQVR4nGN0YQz5zwAFO59dYGBgYGBwlzJgQAdM6ALuUgYMO59dgGvCqhCmyF3KAM6GARZc1sI0wMSZ8LkL2SYmmG50E9A1siALoHsAWQMLNkGsbsRnEnIIMP59rvIf2ae4PAYAZhY72nlgVNgAAAAASUVORK5CYII=\"/>\n   </g>\n   <g id=\"text_15\">\n    <!-- max_like -->\n    <g transform=\"translate(286.782931 186.60146)scale(0.12 -0.12)\">\n     <use xlink:href=\"#DejaVuSans-6d\"/>\n     <use x=\"97.412109\" xlink:href=\"#DejaVuSans-61\"/>\n     <use x=\"158.691406\" xlink:href=\"#DejaVuSans-78\"/>\n     <use x=\"217.871094\" xlink:href=\"#DejaVuSans-5f\"/>\n     <use x=\"267.871094\" xlink:href=\"#DejaVuSans-6c\"/>\n     <use x=\"295.654297\" xlink:href=\"#DejaVuSans-69\"/>\n     <use x=\"323.4375\" xlink:href=\"#DejaVuSans-6b\"/>\n     <use x=\"377.722656\" xlink:href=\"#DejaVuSans-65\"/>\n    </g>\n   </g>\n  </g>\n  <g id=\"text_16\">\n   <!-- Temp: [1, 1.5, 2] -->\n   <g transform=\"translate(119.795625 16.318125)scale(0.12 -0.12)\">\n    <defs>\n     <path d=\"M -19 4666 \nL 3928 4666 \nL 3928 4134 \nL 2272 4134 \nL 2272 0 \nL 1638 0 \nL 1638 4134 \nL -19 4134 \nL -19 4666 \nz\n\" id=\"DejaVuSans-54\" transform=\"scale(0.015625)\"/>\n     <path d=\"M 750 794 \nL 1409 794 \nL 1409 0 \nL 750 0 \nL 750 794 \nz\nM 750 3309 \nL 1409 3309 \nL 1409 2516 \nL 750 2516 \nL 750 3309 \nz\n\" id=\"DejaVuSans-3a\" transform=\"scale(0.015625)\"/>\n     <path id=\"DejaVuSans-20\" transform=\"scale(0.015625)\"/>\n     <path d=\"M 550 4863 \nL 1875 4863 \nL 1875 4416 \nL 1125 4416 \nL 1125 -397 \nL 1875 -397 \nL 1875 -844 \nL 550 -844 \nL 550 4863 \nz\n\" id=\"DejaVuSans-5b\" transform=\"scale(0.015625)\"/>\n     <path d=\"M 794 531 \nL 1825 531 \nL 1825 4091 \nL 703 3866 \nL 703 4441 \nL 1819 4666 \nL 2450 4666 \nL 2450 531 \nL 3481 531 \nL 3481 0 \nL 794 0 \nL 794 531 \nz\n\" id=\"DejaVuSans-31\" transform=\"scale(0.015625)\"/>\n     <path d=\"M 750 794 \nL 1409 794 \nL 1409 256 \nL 897 -744 \nL 494 -744 \nL 750 256 \nL 750 794 \nz\n\" id=\"DejaVuSans-2c\" transform=\"scale(0.015625)\"/>\n     <path d=\"M 684 794 \nL 1344 794 \nL 1344 0 \nL 684 0 \nL 684 794 \nz\n\" id=\"DejaVuSans-2e\" transform=\"scale(0.015625)\"/>\n     <path d=\"M 691 4666 \nL 3169 4666 \nL 3169 4134 \nL 1269 4134 \nL 1269 2991 \nQ 1406 3038 1543 3061 \nQ 1681 3084 1819 3084 \nQ 2600 3084 3056 2656 \nQ 3513 2228 3513 1497 \nQ 3513 744 3044 326 \nQ 2575 -91 1722 -91 \nQ 1428 -91 1123 -41 \nQ 819 9 494 109 \nL 494 744 \nQ 775 591 1075 516 \nQ 1375 441 1709 441 \nQ 2250 441 2565 725 \nQ 2881 1009 2881 1497 \nQ 2881 1984 2565 2268 \nQ 2250 2553 1709 2553 \nQ 1456 2553 1204 2497 \nQ 953 2441 691 2322 \nL 691 4666 \nz\n\" id=\"DejaVuSans-35\" transform=\"scale(0.015625)\"/>\n     <path d=\"M 1228 531 \nL 3431 531 \nL 3431 0 \nL 469 0 \nL 469 531 \nQ 828 903 1448 1529 \nQ 2069 2156 2228 2338 \nQ 2531 2678 2651 2914 \nQ 2772 3150 2772 3378 \nQ 2772 3750 2511 3984 \nQ 2250 4219 1831 4219 \nQ 1534 4219 1204 4116 \nQ 875 4013 500 3803 \nL 500 4441 \nQ 881 4594 1212 4672 \nQ 1544 4750 1819 4750 \nQ 2544 4750 2975 4387 \nQ 3406 4025 3406 3419 \nQ 3406 3131 3298 2873 \nQ 3191 2616 2906 2266 \nQ 2828 2175 2409 1742 \nQ 1991 1309 1228 531 \nz\n\" id=\"DejaVuSans-32\" transform=\"scale(0.015625)\"/>\n     <path d=\"M 1947 4863 \nL 1947 -844 \nL 622 -844 \nL 622 -397 \nL 1369 -397 \nL 1369 4416 \nL 622 4416 \nL 622 4863 \nL 1947 4863 \nz\n\" id=\"DejaVuSans-5d\" transform=\"scale(0.015625)\"/>\n    </defs>\n    <use xlink:href=\"#DejaVuSans-54\"/>\n    <use x=\"44.083984\" xlink:href=\"#DejaVuSans-65\"/>\n    <use x=\"105.607422\" xlink:href=\"#DejaVuSans-6d\"/>\n    <use x=\"203.019531\" xlink:href=\"#DejaVuSans-70\"/>\n    <use x=\"266.496094\" xlink:href=\"#DejaVuSans-3a\"/>\n    <use x=\"300.1875\" xlink:href=\"#DejaVuSans-20\"/>\n    <use x=\"331.974609\" xlink:href=\"#DejaVuSans-5b\"/>\n    <use x=\"370.988281\" xlink:href=\"#DejaVuSans-31\"/>\n    <use x=\"434.611328\" xlink:href=\"#DejaVuSans-2c\"/>\n    <use x=\"466.398438\" xlink:href=\"#DejaVuSans-20\"/>\n    <use x=\"498.185547\" xlink:href=\"#DejaVuSans-31\"/>\n    <use x=\"561.808594\" xlink:href=\"#DejaVuSans-2e\"/>\n    <use x=\"593.595703\" xlink:href=\"#DejaVuSans-35\"/>\n    <use x=\"657.21875\" xlink:href=\"#DejaVuSans-2c\"/>\n    <use x=\"689.005859\" xlink:href=\"#DejaVuSans-20\"/>\n    <use x=\"720.792969\" xlink:href=\"#DejaVuSans-32\"/>\n    <use x=\"784.416016\" xlink:href=\"#DejaVuSans-5d\"/>\n   </g>\n  </g>\n </g>\n <defs>\n  <clipPath id=\"paf0c957657\">\n   <rect height=\"57.724138\" width=\"57.724138\" x=\"7.2\" y=\"39.114402\"/>\n  </clipPath>\n  <clipPath id=\"pd05542131d\">\n   <rect height=\"57.724138\" width=\"57.724138\" x=\"76.468966\" y=\"39.114402\"/>\n  </clipPath>\n  <clipPath id=\"pb63f32ce57\">\n   <rect height=\"57.724138\" width=\"57.724138\" x=\"145.737931\" y=\"39.114402\"/>\n  </clipPath>\n  <clipPath id=\"p1e01760283\">\n   <rect height=\"57.724138\" width=\"57.724138\" x=\"215.006897\" y=\"39.114402\"/>\n  </clipPath>\n  <clipPath id=\"pf57f92943e\">\n   <rect height=\"57.724138\" width=\"57.724138\" x=\"284.275862\" y=\"39.114402\"/>\n  </clipPath>\n  <clipPath id=\"pe2f2b87b66\">\n   <rect height=\"57.724138\" width=\"57.724138\" x=\"7.2\" y=\"115.857931\"/>\n  </clipPath>\n  <clipPath id=\"p9473480d7b\">\n   <rect height=\"57.724138\" width=\"57.724138\" x=\"76.468966\" y=\"115.857931\"/>\n  </clipPath>\n  <clipPath id=\"p6cf4ced0a9\">\n   <rect height=\"57.724138\" width=\"57.724138\" x=\"145.737931\" y=\"115.857931\"/>\n  </clipPath>\n  <clipPath id=\"pa87df74a85\">\n   <rect height=\"57.724138\" width=\"57.724138\" x=\"215.006897\" y=\"115.857931\"/>\n  </clipPath>\n  <clipPath id=\"pa68645479c\">\n   <rect height=\"57.724138\" width=\"57.724138\" x=\"284.275862\" y=\"115.857931\"/>\n  </clipPath>\n  <clipPath id=\"pfd4186edc4\">\n   <rect height=\"57.724138\" width=\"57.724138\" x=\"7.2\" y=\"192.60146\"/>\n  </clipPath>\n  <clipPath id=\"p5463009fb4\">\n   <rect height=\"57.724138\" width=\"57.724138\" x=\"76.468966\" y=\"192.60146\"/>\n  </clipPath>\n  <clipPath id=\"p16e2f2c255\">\n   <rect height=\"57.724138\" width=\"57.724138\" x=\"145.737931\" y=\"192.60146\"/>\n  </clipPath>\n  <clipPath id=\"p9ff27f827a\">\n   <rect height=\"57.724138\" width=\"57.724138\" x=\"215.006897\" y=\"192.60146\"/>\n  </clipPath>\n  <clipPath id=\"p2e6a8ac8f1\">\n   <rect height=\"57.724138\" width=\"57.724138\" x=\"284.275862\" y=\"192.60146\"/>\n  </clipPath>\n </defs>\n</svg>\n",
      "image/png": "[encoded data removed]"
     },
     "metadata": {
      "needs_background": "light"
     }
    }
   ],
   "source": [
    "# Exercise 10\n",
    "\n",
    "size = 10\n",
    "n_sweeps = 50\n",
    "\n",
    "fig, axs = plt.subplots(nrows=3, ncols= 5)\n",
    "fig.suptitle(\"Temp: [1, 1.5, 2]\".format(Temp))\n",
    "for i, Temp in enumerate([1,1.5,2]):\n",
    "    x = gibbs_sample(size, Temp, n_sweeps)\n",
    "    eta = 2* np.random.standard_normal(size=(size,size))\n",
    "    y = x + eta\n",
    "    posterior_sample = posterior_gibbs_sample(size, Temp,n_sweeps, y , 2)\n",
    "    posterior_max = max_posterior_gibbs(size, Temp,n_sweeps, y , 2)\n",
    "    max_likelihood = np.sign(y)\n",
    "    for ax in axs[i]:\n",
    "        ax.axis('off')\n",
    "    axs[i,0].imshow(x, interpolation= 'None')\n",
    "    axs[i,0].set_title('x')\n",
    "    axs[i,1].imshow(y, interpolation= 'None')\n",
    "    axs[i,1].set_title('y')\n",
    "    axs[i,2].imshow(posterior_sample, interpolation= 'None')\n",
    "    axs[i,2].set_title('posterior')\n",
    "    axs[i,3].imshow(posterior_max, interpolation= 'None')\n",
    "    axs[i,3].set_title('post_max')\n",
    "    axs[i,4].imshow(max_likelihood, interpolation= 'None')\n",
    "    axs[i,4].set_title('max_like')\n",
    "\n",
    "\n",
    "    # exact_samples = sample_n(10, 8, Temp)\n",
    "    # for j, sample in enumerate(exact_samples):\n",
    "    #     axs[i,j].imshow(sample, interpolation='None')\n",
    "    #     axs[i,j].axis('off')\n",
    "    #     if j==0:\n",
    "    #         axs[i,j].set_title('temp={}'.format(Temp))\n",
    "\n"
   ]
  },
  {
   "cell_type": "code",
   "execution_count": null,
   "metadata": {},
   "outputs": [],
   "source": []
  }
 ],
 "metadata": {
  "kernelspec": {
   "display_name": "Python 3",
   "language": "python",
   "name": "python3"
  },
  "language_info": {
   "codemirror_mode": {
    "name": "ipython",
    "version": 3
   },
   "file_extension": ".py",
   "mimetype": "text/x-python",
   "name": "python",
   "nbconvert_exporter": "python",
   "pygments_lexer": "ipython3",
   "version": "3.8.5-final"
  }
 },
 "nbformat": 4,
 "nbformat_minor": 5
}