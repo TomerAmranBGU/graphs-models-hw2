{
 "cells": [
  {
   "cell_type": "code",
   "execution_count": 2,
   "id": "11e05293",
   "metadata": {},
   "outputs": [],
   "source": [
    "import numpy as np\n",
    "import itertools"
   ]
  },
  {
   "cell_type": "code",
   "execution_count": 3,
   "id": "ef15ed48",
   "metadata": {},
   "outputs": [],
   "source": [
    "# Exercise 1\n",
    "def G(row_s, Temp):\n",
    "    return np.exp(1/Temp * row_s[:-1]@row_s[1:].T)\n"
   ]
  },
  {
   "cell_type": "code",
   "execution_count": 4,
   "id": "2889221e",
   "metadata": {},
   "outputs": [],
   "source": [
    "\n",
    "# Exercise 2\n",
    "def F(row_s, row_t, Temp):\n",
    "    return np.exp(1/Temp * row_s@row_t.T)\n"
   ]
  },
  {
   "cell_type": "code",
   "execution_count": 5,
   "id": "5fb621fa",
   "metadata": {},
   "outputs": [
    {
     "name": "stdout",
     "output_type": "stream",
     "text": [
      "121.23293134406595\n",
      "40.922799092745386\n",
      "27.048782764334526\n"
     ]
    }
   ],
   "source": [
    "# exercise 3\n",
    "# to achive the Ztemp definition we can combine G and F with exponent multipication rules\n",
    "def Ztemp_2(Temp):\n",
    "    # options = np.array(np.meshgrid([-1,1],[-1,1])).T.reshape(-1,2)\n",
    "    options = itertools.product([-1,1], repeat = 4)\n",
    "    res = 0\n",
    "    for option in options:\n",
    "        grid = np.array(option).reshape(2,2)\n",
    "        row_s = grid[0]\n",
    "        row_t = grid[1]\n",
    "        res += G(row_s,Temp)*G(row_t,Temp)*F(row_s,row_t,Temp);\n",
    "    return res\n",
    "print(Ztemp_2(1))\n",
    "print(Ztemp_2(1.5))\n",
    "print(Ztemp_2(2))\n"
   ]
  },
  {
   "cell_type": "code",
   "execution_count": 6,
   "id": "9357ad8f",
   "metadata": {},
   "outputs": [],
   "source": [
    "# Exercise 4\n",
    "def Ztemp_3(Temp):\n",
    "    # options = np.array(np.meshgrid([-1,1],[-1,1])).T.reshape(-1,2)\n",
    "    options = itertools.product([-1,1], repeat = 9)\n",
    "    res = 0\n",
    "    for option in options:\n",
    "        grid = np.array(option).reshape(3,3)\n",
    "        \n",
    "        res += G(grid[0],Temp)*G(grid[1],Temp)*G(grid[2],Temp) \\\n",
    "                *F(grid[0],grid[1],Temp)*F(grid[1],grid[2],Temp);\n",
    "    return res\n"
   ]
  },
  {
   "cell_type": "code",
   "execution_count": 9,
   "id": "bef6dc3d",
   "metadata": {},
   "outputs": [
    {
     "name": "stdout",
     "output_type": "stream",
     "text": [
      "365645.7491357704\n",
      "10565.421983514265\n",
      "2674.518123060087\n"
     ]
    }
   ],
   "source": [
    "# Exrecise 5+6\n",
    "def y2row(y,width=8):\n",
    "    \"\"\"\n",
    "    y: an integer in (0,...,(2**width)-1)\n",
    "    \"\"\"\n",
    "    if not 0<=y<=(2**width)-1:\n",
    "        raise ValueError(y)\n",
    "    my_str=np.binary_repr(y,width=width)\n",
    "    # my_list = map(int,my_str) # Python 2\n",
    "    my_list = list(map(int,my_str)) # Python 3\n",
    "    my_array = np.asarray(my_list)\n",
    "    my_array[my_array==0]=-1\n",
    "    row=my_array\n",
    "    return row\n",
    "\n",
    "def Ztemp_ys(Temp, size):\n",
    "    res =0\n",
    "    for yS in itertools.product([y2row(num,size) for num in range(2**size)], repeat=size):\n",
    "        inner_res = 1 \n",
    "        for y_i in yS:\n",
    "            inner_res *= G(y_i,Temp)\n",
    "        for i in range(size-1):\n",
    "            inner_res *= F(yS[i],yS[i+1],Temp)\n",
    "        res += inner_res\n",
    "    return res\n",
    "print(Ztemp_ys(1,3))\n",
    "print(Ztemp_ys(1.5,3))\n",
    "print(Ztemp_ys(2,3))"
   ]
  },
  {
   "cell_type": "code",
   "execution_count": null,
   "id": "d80fa8a7",
   "metadata": {},
   "outputs": [],
   "source": []
  }
 ],
 "metadata": {
  "kernelspec": {
   "display_name": "Python 3",
   "language": "python",
   "name": "python3"
  },
  "language_info": {
   "codemirror_mode": {
    "name": "ipython",
    "version": 3
   },
   "file_extension": ".py",
   "mimetype": "text/x-python",
   "name": "python",
   "nbconvert_exporter": "python",
   "pygments_lexer": "ipython3",
   "version": "3.8.5"
  }
 },
 "nbformat": 4,
 "nbformat_minor": 5
}
